{
 "cells": [
  {
   "cell_type": "code",
   "execution_count": 1,
   "metadata": {},
   "outputs": [
    {
     "ename": "ModuleNotFoundError",
     "evalue": "No module named 'pyspark'",
     "output_type": "error",
     "traceback": [
      "\u001b[1;31m---------------------------------------------------------------------------\u001b[0m",
      "\u001b[1;31mModuleNotFoundError\u001b[0m                       Traceback (most recent call last)",
      "Cell \u001b[1;32mIn[1], line 1\u001b[0m\n\u001b[1;32m----> 1\u001b[0m \u001b[38;5;28;01mfrom\u001b[39;00m \u001b[38;5;21;01mpyspark\u001b[39;00m\u001b[38;5;21;01m.\u001b[39;00m\u001b[38;5;21;01msql\u001b[39;00m \u001b[38;5;28;01mimport\u001b[39;00m SparkSession\n\u001b[0;32m      2\u001b[0m \u001b[38;5;28;01mfrom\u001b[39;00m \u001b[38;5;21;01mpyspark\u001b[39;00m\u001b[38;5;21;01m.\u001b[39;00m\u001b[38;5;21;01msql\u001b[39;00m\u001b[38;5;21;01m.\u001b[39;00m\u001b[38;5;21;01mfunctions\u001b[39;00m \u001b[38;5;28;01mimport\u001b[39;00m split, col, element_at, \u001b[38;5;28mslice\u001b[39m, size, regexp_extract, transform, when, explode, \\\n\u001b[0;32m      3\u001b[0m monotonically_increasing_id, map_from_arrays, lit, udf,collect_list, row_number, ceil, map_keys, expr, from_json\n\u001b[0;32m      4\u001b[0m \u001b[38;5;28;01mfrom\u001b[39;00m \u001b[38;5;21;01mpyspark\u001b[39;00m\u001b[38;5;21;01m.\u001b[39;00m\u001b[38;5;21;01msql\u001b[39;00m\u001b[38;5;21;01m.\u001b[39;00m\u001b[38;5;21;01mtypes\u001b[39;00m \u001b[38;5;28;01mimport\u001b[39;00m ShortType, ArrayType, LongType, StringType\n",
      "\u001b[1;31mModuleNotFoundError\u001b[0m: No module named 'pyspark'"
     ]
    }
   ],
   "source": [
    "from pyspark.sql import SparkSession\n",
    "from pyspark.sql.functions import split, col, element_at, slice, size, regexp_extract, transform, when, explode, \\\n",
    "monotonically_increasing_id, map_from_arrays, lit, udf,collect_list, row_number, ceil, map_keys, expr, from_json\n",
    "from pyspark.sql.types import ShortType, ArrayType, LongType, StringType\n",
    "from pyspark.sql import types as T\n",
    "from pyspark.pandas import read_parquet\n",
    "import pandas as pd\n",
    "from os import listdir\n",
    "from os.path import isfile, join\n",
    "\n",
    "import os\n",
    "import sys\n",
    "\n",
    "\n",
    "os.environ['PYSPARK_PYTHON'] = sys.executable\n",
    "os.environ['PYSPARK_DRIVER_PYTHON'] = sys.executable\n",
    "\n",
    "years_Columns = list(range(1800,2000)) \n",
    "directory = 'C:/Users/bincl/BA-Thesis/Dataset/2gram/parquet/'\n",
    "\n",
    "pathlist = [directory + f for f in listdir(directory) if isfile(join(directory, f))]\n",
    "\n",
    "spark2 = SparkSession.builder.appName('3gramSQL').getOrCreate()\n",
    "\n",
    "raw_input_df2 = spark2 \\\n",
    "                .read.csv(pathlist, sep='\\n',quote=\"\").withColumnRenamed('_c0', 'Input')\n",
    "\n",
    "split_df2 = raw_input_df2 \\\n",
    "                .select(split('Input', '\\t').alias('SplitInput')) \\\n",
    "                .select(element_at('SplitInput', 1).alias('Tokens'),\n",
    "                        slice('SplitInput', 2,\n",
    "size('SplitInput')).alias('Data')) \\\n",
    "                .select('Tokens', 'Data') \\\n",
    "\n",
    "df_2gram = split_df2.select('Tokens', transform('Data', lambda d:\n",
    "split(d, ',')).alias('Data')) \\\n",
    "                .select('Tokens', transform('Data', lambda x:\n",
    "x[0]).alias('Year'),\n",
    "                        transform('Data', lambda x:\n",
    "x[1]).cast(ArrayType(LongType())).alias('Occurrences')) \\\n",
    "                .select('Tokens', map_from_arrays('Year',\n",
    "'Occurrences').alias('Data')).select(['Tokens', 'Data'])   \n"
   ]
  },
  {
   "cell_type": "code",
   "execution_count": null,
   "metadata": {},
   "outputs": [
    {
     "data": {
      "text/plain": [
       "[Row(Tokens='PAR1\\x15\\x04\\x15��i\\x15��8L\\x15��\\x07\\x15\\x00\\x12\\x00\\x00��44', Data={}),\n",
       " Row(Tokens='\\x00\\x00\\x00\\x001899,16,16\\x05\\x0e$903,10,10\\x08\\x01\\x1c\\x18991,1,1', Data={'\\x0c\\x1404': 3, '&\\x1c18': 22, '\\x0c\\x0c5': None, '\\x05Z\\x1854': 17}),\n",
       " Row(Tokens='\\x1a\\x1456,2,2\\x01?\\x182001,11', Data={'?\\x0c1924\\x013': None, '?\\x0c56': 4})]"
      ]
     },
     "execution_count": 2,
     "metadata": {},
     "output_type": "execute_result"
    }
   ],
   "source": [
    "pathlist = [directory + f for f in listdir(directory) if isfile(join(directory, f))]\n",
    "\n",
    "split_df2 = spark2.read.parquet('C:/Users/bincl/BA-Thesis/BA/HC/oldCode/aa.gz.parquet')\n",
    "df_2gram.head(3)"
   ]
  },
  {
   "cell_type": "code",
   "execution_count": null,
   "metadata": {},
   "outputs": [
    {
     "name": "stderr",
     "output_type": "stream",
     "text": [
      "c:\\Users\\bincl\\AppData\\Local\\Programs\\Python\\Python311\\Lib\\site-packages\\pyspark\\sql\\context.py:113: FutureWarning: Deprecated in 3.0.0. Use SparkSession.builder.getOrCreate() instead.\n",
      "  warnings.warn(\n"
     ]
    },
    {
     "data": {
      "text/plain": [
       "[Row(derartige Beachtung='1899,16,16', 1850,2,1='1900,19,13', 1855,2,2='1901,6,6', 1860,1,1='1902,12,9', 1865,6,6='1903,17,11', 1868,1,1='1904,12,9', 1871,1,1='1905,15,15', 1875,3,2='1906,24,16', 1878,1,1='1907,9,7', 1880,1,1='1908,8,8', 1882,1,1='1909,22,16', 1884,1,1='1910,9,9', 1885,2,2='1911,6,5', 1886,2,2='1912,5,4', 1891,4,4='1913,24,13', 1893,1,1='1914,10,6', 1895,2,2='1915,11,10', 1896,4,4='1916,21,12', 1897,1,1='1917,4,4', 1899,4,4='1918,5,5', 1900,4,4='1919,9,5', 1901,2,2='1920,10,6', 1902,9,9='1921,5,5', 1903,6,6='1922,7,7', 1904,2,2='1923,1,1', 1905,8,8='1924,13,13', 1906,6,6='1925,12,12', 1907,10,10='1926,4,4', 1908,6,6='1927,14,12', 1910,1,1='1928,4,4', 1912,4,4='1929,8,8', 1913,3,3='1930,18,8', 1915,6,6='1931,5,5', 1916,5,5='1932,2,2', 1917,1,1='1933,9,7', 1919,3,3='1934,7,7', 1920,7,7='1935,15,8', 1921,4,4='1936,11,5', 1922,7,6='1937,3,2', 1924,1,1='1938,6,3', 1925,1,1='1939,8,7', 1926,1,1='1940,3,3', 1927,4,4='1941,14,5', 1928,1,1='1942,2,2', 1929,1,1='1943,18,18', 1930,2,2='1944,4,2', 1931,3,3='1945,1,1', 1933,1,1='1946,2,2', 1935,4,4='1947,7,7', 1937,3,3='1948,13,12', 1938,1,1='1949,20,18', 1939,1,1='1950,4,4', 1943,1,1='1951,11,11', 1948,3,3='1952,31,18', 1949,4,4='1953,12,12', 1950,1,1='1954,23,21', 1951,1,1='1955,23,18', 1952,2,2='1956,33,22', 1953,1,1='1957,13,8', 1955,4,4='1958,32,21', 1956,2,2='1959,55,38', 1958,2,2='1960,43,31', 1959,3,3='1961,48,29', 1960,2,2='1962,111,62', 1961,1,1='1963,103,59', 1962,6,6='1964,99,65', 1963,6,6='1965,98,56', 1964,8,8='1966,92,57', 1965,1,1='1967,80,63', 1966,3,3='1968,109,62', 1967,4,4='1969,71,51', 1968,2,2='1970,75,57', 1969,2,2='1971,67,40', 1970,2,2='1972,83,49', 1971,8,8='1973,76,50', 1972,2,2='1974,52,32', 1973,5,5='1975,100,49', 1974,13,13='1976,59,47', 1975,3,3='1977,61,44', 1976,1,1='1978,97,58', 1977,3,3='1979,128,65', 1978,3,3='1980,115,74', 1979,4,4='1981,98,68', 1980,4,4='1982,136,57', 1981,3,3='1983,75,49', 1982,4,4='1984,48,39', 1983,4,4='1985,86,76', 1984,4,4='1986,107,44', 1985,3,3='1987,56,41', 1986,6,6='1988,68,48', 1987,1,1='1989,76,46', 1988,4,4='1990,57,36', 1991,5,5='1991,61,43', 1992,3,3='1992,65,46', 1993,3,3='1993,74,51', 1994,3,3='1994,83,48', 1995,7,7='1995,109,67', 1996,3,3='1996,112,61', 1997,3,3='1997,111,60', 1998,6,6='1998,82,53', 1999,2,2='1999,103,59', 2000,5,5='2000,66,49', 2001,4,4='2001,78,41', 2002,3,3='2002,57,42', 2003,3,3='2003,116,75', 2004,12,12='2004,93,60', 2005,6,6='2005,62,55', 2006,4,4='2006,54,39', 2007,5,5='2007,53,40', 2008,9,9='2008,59,39', 2009,1,1='2009,51,39', 2010,5,5='2010,23,20', 2011,4,4='2011,54,41', 2012,3,3='2012,38,26', 2013,16,16='2013,36,31', 2014,3,3='2014,60,35', 2015,7,7='2015,58,30', 2016,3,3='2016,43,32', 2017,16,13='2017,76,56', 2018,7,7='2018,43,30', 2019,1,1='2019,19,15'),\n",
       " Row(derartige Beachtung=None, 1850,2,1=None, 1855,2,2=None, 1860,1,1=None, 1865,6,6=None, 1868,1,1=None, 1871,1,1=None, 1875,3,2=None, 1878,1,1=None, 1880,1,1=None, 1882,1,1=None, 1884,1,1=None, 1885,2,2=None, 1886,2,2=None, 1891,4,4=None, 1893,1,1=None, 1895,2,2=None, 1896,4,4=None, 1897,1,1=None, 1899,4,4=None, 1900,4,4=None, 1901,2,2=None, 1902,9,9=None, 1903,6,6=None, 1904,2,2=None, 1905,8,8=None, 1906,6,6=None, 1907,10,10=None, 1908,6,6=None, 1910,1,1=None, 1912,4,4=None, 1913,3,3=None, 1915,6,6=None, 1916,5,5=None, 1917,1,1=None, 1919,3,3=None, 1920,7,7=None, 1921,4,4=None, 1922,7,6=None, 1924,1,1=None, 1925,1,1=None, 1926,1,1=None, 1927,4,4=None, 1928,1,1=None, 1929,1,1=None, 1930,2,2=None, 1931,3,3=None, 1933,1,1=None, 1935,4,4=None, 1937,3,3=None, 1938,1,1=None, 1939,1,1=None, 1943,1,1=None, 1948,3,3=None, 1949,4,4=None, 1950,1,1=None, 1951,1,1=None, 1952,2,2=None, 1953,1,1=None, 1955,4,4=None, 1956,2,2=None, 1958,2,2=None, 1959,3,3=None, 1960,2,2=None, 1961,1,1=None, 1962,6,6=None, 1963,6,6=None, 1964,8,8=None, 1965,1,1=None, 1966,3,3=None, 1967,4,4=None, 1968,2,2=None, 1969,2,2=None, 1970,2,2=None, 1971,8,8=None, 1972,2,2=None, 1973,5,5=None, 1974,13,13=None, 1975,3,3=None, 1976,1,1=None, 1977,3,3=None, 1978,3,3=None, 1979,4,4=None, 1980,4,4=None, 1981,3,3=None, 1982,4,4=None, 1983,4,4=None, 1984,4,4=None, 1985,3,3=None, 1986,6,6=None, 1987,1,1=None, 1988,4,4=None, 1991,5,5=None, 1992,3,3=None, 1993,3,3=None, 1994,3,3=None, 1995,7,7=None, 1996,3,3=None, 1997,3,3=None, 1998,6,6=None, 1999,2,2=None, 2000,5,5=None, 2001,4,4=None, 2002,3,3=None, 2003,3,3=None, 2004,12,12=None, 2005,6,6=None, 2006,4,4=None, 2007,5,5=None, 2008,9,9=None, 2009,1,1=None, 2010,5,5=None, 2011,4,4=None, 2012,3,3=None, 2013,16,16=None, 2014,3,3=None, 2015,7,7=None, 2016,3,3=None, 2017,16,13=None, 2018,7,7=None, 2019,1,1=None),\n",
       " Row(derartige Beachtung=None, 1850,2,1=None, 1855,2,2=None, 1860,1,1=None, 1865,6,6=None, 1868,1,1=None, 1871,1,1=None, 1875,3,2=None, 1878,1,1=None, 1880,1,1=None, 1882,1,1=None, 1884,1,1=None, 1885,2,2=None, 1886,2,2=None, 1891,4,4=None, 1893,1,1=None, 1895,2,2=None, 1896,4,4=None, 1897,1,1=None, 1899,4,4=None, 1900,4,4=None, 1901,2,2=None, 1902,9,9=None, 1903,6,6=None, 1904,2,2=None, 1905,8,8=None, 1906,6,6=None, 1907,10,10=None, 1908,6,6=None, 1910,1,1=None, 1912,4,4=None, 1913,3,3=None, 1915,6,6=None, 1916,5,5=None, 1917,1,1=None, 1919,3,3=None, 1920,7,7=None, 1921,4,4=None, 1922,7,6=None, 1924,1,1=None, 1925,1,1=None, 1926,1,1=None, 1927,4,4=None, 1928,1,1=None, 1929,1,1=None, 1930,2,2=None, 1931,3,3=None, 1933,1,1=None, 1935,4,4=None, 1937,3,3=None, 1938,1,1=None, 1939,1,1=None, 1943,1,1=None, 1948,3,3=None, 1949,4,4=None, 1950,1,1=None, 1951,1,1=None, 1952,2,2=None, 1953,1,1=None, 1955,4,4=None, 1956,2,2=None, 1958,2,2=None, 1959,3,3=None, 1960,2,2=None, 1961,1,1=None, 1962,6,6=None, 1963,6,6=None, 1964,8,8=None, 1965,1,1=None, 1966,3,3=None, 1967,4,4=None, 1968,2,2=None, 1969,2,2=None, 1970,2,2=None, 1971,8,8=None, 1972,2,2=None, 1973,5,5=None, 1974,13,13=None, 1975,3,3=None, 1976,1,1=None, 1977,3,3=None, 1978,3,3=None, 1979,4,4=None, 1980,4,4=None, 1981,3,3=None, 1982,4,4=None, 1983,4,4=None, 1984,4,4=None, 1985,3,3=None, 1986,6,6=None, 1987,1,1=None, 1988,4,4=None, 1991,5,5=None, 1992,3,3=None, 1993,3,3=None, 1994,3,3=None, 1995,7,7=None, 1996,3,3=None, 1997,3,3=None, 1998,6,6=None, 1999,2,2=None, 2000,5,5=None, 2001,4,4=None, 2002,3,3=None, 2003,3,3=None, 2004,12,12=None, 2005,6,6=None, 2006,4,4=None, 2007,5,5=None, 2008,9,9=None, 2009,1,1=None, 2010,5,5=None, 2011,4,4=None, 2012,3,3=None, 2013,16,16=None, 2014,3,3=None, 2015,7,7=None, 2016,3,3=None, 2017,16,13=None, 2018,7,7=None, 2019,1,1=None)]"
      ]
     },
     "execution_count": 3,
     "metadata": {},
     "output_type": "execute_result"
    }
   ],
   "source": [
    "\n",
    "from pyspark.sql import SQLContext\n",
    "sqlContext = SQLContext(spark2)\n",
    "\n",
    "df_2gram = sqlContext.read.parquet('C:/Users/bincl/BA-Thesis/BA/HC/oldCode/aa.gz.parquet')\n",
    "df_2gram.head(3)\n"
   ]
  },
  {
   "cell_type": "code",
   "execution_count": null,
   "metadata": {},
   "outputs": [],
   "source": []
  },
  {
   "cell_type": "code",
   "execution_count": null,
   "metadata": {},
   "outputs": [
    {
     "ename": "KeyboardInterrupt",
     "evalue": "",
     "output_type": "error",
     "traceback": [
      "\u001b[1;31m---------------------------------------------------------------------------\u001b[0m",
      "\u001b[1;31mKeyboardInterrupt\u001b[0m                         Traceback (most recent call last)",
      "Cell \u001b[1;32mIn[4], line 1\u001b[0m\n\u001b[1;32m----> 1\u001b[0m \u001b[43mpd\u001b[49m\u001b[38;5;241;43m.\u001b[39;49m\u001b[43mread_parquet\u001b[49m\u001b[43m(\u001b[49m\u001b[38;5;124;43m'\u001b[39;49m\u001b[38;5;124;43mC:/Users/bincl/BA-Thesis/Dataset/2gram/parquet/aa.gz.parquet\u001b[39;49m\u001b[38;5;124;43m'\u001b[39;49m\u001b[43m)\u001b[49m\n",
      "File \u001b[1;32mc:\\Users\\bincl\\AppData\\Local\\Programs\\Python\\Python311\\Lib\\site-packages\\pandas\\io\\parquet.py:503\u001b[0m, in \u001b[0;36mread_parquet\u001b[1;34m(path, engine, columns, storage_options, use_nullable_dtypes, **kwargs)\u001b[0m\n\u001b[0;32m    456\u001b[0m \u001b[38;5;124;03m\"\"\"\u001b[39;00m\n\u001b[0;32m    457\u001b[0m \u001b[38;5;124;03mLoad a parquet object from the file path, returning a DataFrame.\u001b[39;00m\n\u001b[0;32m    458\u001b[0m \n\u001b[1;32m   (...)\u001b[0m\n\u001b[0;32m    499\u001b[0m \u001b[38;5;124;03mDataFrame\u001b[39;00m\n\u001b[0;32m    500\u001b[0m \u001b[38;5;124;03m\"\"\"\u001b[39;00m\n\u001b[0;32m    501\u001b[0m impl \u001b[38;5;241m=\u001b[39m get_engine(engine)\n\u001b[1;32m--> 503\u001b[0m \u001b[38;5;28;01mreturn\u001b[39;00m \u001b[43mimpl\u001b[49m\u001b[38;5;241;43m.\u001b[39;49m\u001b[43mread\u001b[49m\u001b[43m(\u001b[49m\n\u001b[0;32m    504\u001b[0m \u001b[43m    \u001b[49m\u001b[43mpath\u001b[49m\u001b[43m,\u001b[49m\n\u001b[0;32m    505\u001b[0m \u001b[43m    \u001b[49m\u001b[43mcolumns\u001b[49m\u001b[38;5;241;43m=\u001b[39;49m\u001b[43mcolumns\u001b[49m\u001b[43m,\u001b[49m\n\u001b[0;32m    506\u001b[0m \u001b[43m    \u001b[49m\u001b[43mstorage_options\u001b[49m\u001b[38;5;241;43m=\u001b[39;49m\u001b[43mstorage_options\u001b[49m\u001b[43m,\u001b[49m\n\u001b[0;32m    507\u001b[0m \u001b[43m    \u001b[49m\u001b[43muse_nullable_dtypes\u001b[49m\u001b[38;5;241;43m=\u001b[39;49m\u001b[43muse_nullable_dtypes\u001b[49m\u001b[43m,\u001b[49m\n\u001b[0;32m    508\u001b[0m \u001b[43m    \u001b[49m\u001b[38;5;241;43m*\u001b[39;49m\u001b[38;5;241;43m*\u001b[39;49m\u001b[43mkwargs\u001b[49m\u001b[43m,\u001b[49m\n\u001b[0;32m    509\u001b[0m \u001b[43m\u001b[49m\u001b[43m)\u001b[49m\n",
      "File \u001b[1;32mc:\\Users\\bincl\\AppData\\Local\\Programs\\Python\\Python311\\Lib\\site-packages\\pandas\\io\\parquet.py:251\u001b[0m, in \u001b[0;36mPyArrowImpl.read\u001b[1;34m(self, path, columns, use_nullable_dtypes, storage_options, **kwargs)\u001b[0m\n\u001b[0;32m    244\u001b[0m path_or_handle, handles, kwargs[\u001b[38;5;124m\"\u001b[39m\u001b[38;5;124mfilesystem\u001b[39m\u001b[38;5;124m\"\u001b[39m] \u001b[38;5;241m=\u001b[39m _get_path_or_handle(\n\u001b[0;32m    245\u001b[0m     path,\n\u001b[0;32m    246\u001b[0m     kwargs\u001b[38;5;241m.\u001b[39mpop(\u001b[38;5;124m\"\u001b[39m\u001b[38;5;124mfilesystem\u001b[39m\u001b[38;5;124m\"\u001b[39m, \u001b[38;5;28;01mNone\u001b[39;00m),\n\u001b[0;32m    247\u001b[0m     storage_options\u001b[38;5;241m=\u001b[39mstorage_options,\n\u001b[0;32m    248\u001b[0m     mode\u001b[38;5;241m=\u001b[39m\u001b[38;5;124m\"\u001b[39m\u001b[38;5;124mrb\u001b[39m\u001b[38;5;124m\"\u001b[39m,\n\u001b[0;32m    249\u001b[0m )\n\u001b[0;32m    250\u001b[0m \u001b[38;5;28;01mtry\u001b[39;00m:\n\u001b[1;32m--> 251\u001b[0m     result \u001b[38;5;241m=\u001b[39m \u001b[38;5;28;43mself\u001b[39;49m\u001b[38;5;241;43m.\u001b[39;49m\u001b[43mapi\u001b[49m\u001b[38;5;241;43m.\u001b[39;49m\u001b[43mparquet\u001b[49m\u001b[38;5;241;43m.\u001b[39;49m\u001b[43mread_table\u001b[49m\u001b[43m(\u001b[49m\n\u001b[0;32m    252\u001b[0m \u001b[43m        \u001b[49m\u001b[43mpath_or_handle\u001b[49m\u001b[43m,\u001b[49m\u001b[43m \u001b[49m\u001b[43mcolumns\u001b[49m\u001b[38;5;241;43m=\u001b[39;49m\u001b[43mcolumns\u001b[49m\u001b[43m,\u001b[49m\u001b[43m \u001b[49m\u001b[38;5;241;43m*\u001b[39;49m\u001b[38;5;241;43m*\u001b[39;49m\u001b[43mkwargs\u001b[49m\n\u001b[0;32m    253\u001b[0m \u001b[43m    \u001b[49m\u001b[43m)\u001b[49m\u001b[38;5;241;43m.\u001b[39;49m\u001b[43mto_pandas\u001b[49m\u001b[43m(\u001b[49m\u001b[38;5;241;43m*\u001b[39;49m\u001b[38;5;241;43m*\u001b[39;49m\u001b[43mto_pandas_kwargs\u001b[49m\u001b[43m)\u001b[49m\n\u001b[0;32m    254\u001b[0m     \u001b[38;5;28;01mif\u001b[39;00m manager \u001b[38;5;241m==\u001b[39m \u001b[38;5;124m\"\u001b[39m\u001b[38;5;124marray\u001b[39m\u001b[38;5;124m\"\u001b[39m:\n\u001b[0;32m    255\u001b[0m         result \u001b[38;5;241m=\u001b[39m result\u001b[38;5;241m.\u001b[39m_as_manager(\u001b[38;5;124m\"\u001b[39m\u001b[38;5;124marray\u001b[39m\u001b[38;5;124m\"\u001b[39m, copy\u001b[38;5;241m=\u001b[39m\u001b[38;5;28;01mFalse\u001b[39;00m)\n",
      "File \u001b[1;32mc:\\Users\\bincl\\AppData\\Local\\Programs\\Python\\Python311\\Lib\\site-packages\\pyarrow\\array.pxi:884\u001b[0m, in \u001b[0;36mpyarrow.lib._PandasConvertible.to_pandas\u001b[1;34m()\u001b[0m\n",
      "File \u001b[1;32mc:\\Users\\bincl\\AppData\\Local\\Programs\\Python\\Python311\\Lib\\site-packages\\pyarrow\\table.pxi:4192\u001b[0m, in \u001b[0;36mpyarrow.lib.Table._to_pandas\u001b[1;34m()\u001b[0m\n",
      "File \u001b[1;32mc:\\Users\\bincl\\AppData\\Local\\Programs\\Python\\Python311\\Lib\\site-packages\\pyarrow\\pandas_compat.py:766\u001b[0m, in \u001b[0;36mtable_to_dataframe\u001b[1;34m(options, table, categories, ignore_metadata, types_mapper)\u001b[0m\n\u001b[0;32m    764\u001b[0m     index_descriptors \u001b[38;5;241m=\u001b[39m pandas_metadata[\u001b[38;5;124m'\u001b[39m\u001b[38;5;124mindex_columns\u001b[39m\u001b[38;5;124m'\u001b[39m]\n\u001b[0;32m    765\u001b[0m     table \u001b[38;5;241m=\u001b[39m _add_any_metadata(table, pandas_metadata)\n\u001b[1;32m--> 766\u001b[0m     table, index \u001b[38;5;241m=\u001b[39m \u001b[43m_reconstruct_index\u001b[49m\u001b[43m(\u001b[49m\u001b[43mtable\u001b[49m\u001b[43m,\u001b[49m\u001b[43m \u001b[49m\u001b[43mindex_descriptors\u001b[49m\u001b[43m,\u001b[49m\n\u001b[0;32m    767\u001b[0m \u001b[43m                                      \u001b[49m\u001b[43mall_columns\u001b[49m\u001b[43m,\u001b[49m\u001b[43m \u001b[49m\u001b[43mtypes_mapper\u001b[49m\u001b[43m)\u001b[49m\n\u001b[0;32m    768\u001b[0m     ext_columns_dtypes \u001b[38;5;241m=\u001b[39m _get_extension_dtypes(\n\u001b[0;32m    769\u001b[0m         table, all_columns, types_mapper)\n\u001b[0;32m    770\u001b[0m \u001b[38;5;28;01melse\u001b[39;00m:\n",
      "File \u001b[1;32mc:\\Users\\bincl\\AppData\\Local\\Programs\\Python\\Python311\\Lib\\site-packages\\pyarrow\\pandas_compat.py:922\u001b[0m, in \u001b[0;36m_reconstruct_index\u001b[1;34m(table, index_descriptors, all_columns, types_mapper)\u001b[0m\n\u001b[0;32m    920\u001b[0m \u001b[38;5;28;01mfor\u001b[39;00m descr \u001b[38;5;129;01min\u001b[39;00m index_descriptors:\n\u001b[0;32m    921\u001b[0m     \u001b[38;5;28;01mif\u001b[39;00m \u001b[38;5;28misinstance\u001b[39m(descr, \u001b[38;5;28mstr\u001b[39m):\n\u001b[1;32m--> 922\u001b[0m         result_table, index_level, index_name \u001b[38;5;241m=\u001b[39m \u001b[43m_extract_index_level\u001b[49m\u001b[43m(\u001b[49m\n\u001b[0;32m    923\u001b[0m \u001b[43m            \u001b[49m\u001b[43mtable\u001b[49m\u001b[43m,\u001b[49m\u001b[43m \u001b[49m\u001b[43mresult_table\u001b[49m\u001b[43m,\u001b[49m\u001b[43m \u001b[49m\u001b[43mdescr\u001b[49m\u001b[43m,\u001b[49m\u001b[43m \u001b[49m\u001b[43mfield_name_to_metadata\u001b[49m\u001b[43m,\u001b[49m\u001b[43m \u001b[49m\u001b[43mtypes_mapper\u001b[49m\u001b[43m)\u001b[49m\n\u001b[0;32m    924\u001b[0m         \u001b[38;5;28;01mif\u001b[39;00m index_level \u001b[38;5;129;01mis\u001b[39;00m \u001b[38;5;28;01mNone\u001b[39;00m:\n\u001b[0;32m    925\u001b[0m             \u001b[38;5;66;03m# ARROW-1883: the serialized index column was not found\u001b[39;00m\n\u001b[0;32m    926\u001b[0m             \u001b[38;5;28;01mcontinue\u001b[39;00m\n",
      "File \u001b[1;32mc:\\Users\\bincl\\AppData\\Local\\Programs\\Python\\Python311\\Lib\\site-packages\\pyarrow\\pandas_compat.py:971\u001b[0m, in \u001b[0;36m_extract_index_level\u001b[1;34m(table, result_table, field_name, field_name_to_metadata, types_mapper)\u001b[0m\n\u001b[0;32m    968\u001b[0m pd \u001b[38;5;241m=\u001b[39m _pandas_api\u001b[38;5;241m.\u001b[39mpd\n\u001b[0;32m    970\u001b[0m col \u001b[38;5;241m=\u001b[39m table\u001b[38;5;241m.\u001b[39mcolumn(i)\n\u001b[1;32m--> 971\u001b[0m values \u001b[38;5;241m=\u001b[39m \u001b[43mcol\u001b[49m\u001b[38;5;241;43m.\u001b[39;49m\u001b[43mto_pandas\u001b[49m\u001b[43m(\u001b[49m\u001b[43mtypes_mapper\u001b[49m\u001b[38;5;241;43m=\u001b[39;49m\u001b[43mtypes_mapper\u001b[49m\u001b[43m)\u001b[49m\u001b[38;5;241m.\u001b[39mvalues\n\u001b[0;32m    973\u001b[0m \u001b[38;5;28;01mif\u001b[39;00m \u001b[38;5;28mhasattr\u001b[39m(values, \u001b[38;5;124m'\u001b[39m\u001b[38;5;124mflags\u001b[39m\u001b[38;5;124m'\u001b[39m) \u001b[38;5;129;01mand\u001b[39;00m \u001b[38;5;129;01mnot\u001b[39;00m values\u001b[38;5;241m.\u001b[39mflags\u001b[38;5;241m.\u001b[39mwriteable:\n\u001b[0;32m    974\u001b[0m     \u001b[38;5;66;03m# ARROW-1054: in pandas 0.19.2, factorize will reject\u001b[39;00m\n\u001b[0;32m    975\u001b[0m     \u001b[38;5;66;03m# non-writeable arrays when calling MultiIndex.from_arrays\u001b[39;00m\n\u001b[0;32m    976\u001b[0m     values \u001b[38;5;241m=\u001b[39m values\u001b[38;5;241m.\u001b[39mcopy()\n",
      "File \u001b[1;32mc:\\Users\\bincl\\AppData\\Local\\Programs\\Python\\Python311\\Lib\\site-packages\\pyarrow\\array.pxi:884\u001b[0m, in \u001b[0;36mpyarrow.lib._PandasConvertible.to_pandas\u001b[1;34m()\u001b[0m\n",
      "File \u001b[1;32mc:\\Users\\bincl\\AppData\\Local\\Programs\\Python\\Python311\\Lib\\site-packages\\pyarrow\\table.pxi:474\u001b[0m, in \u001b[0;36mpyarrow.lib.ChunkedArray._to_pandas\u001b[1;34m()\u001b[0m\n",
      "File \u001b[1;32mc:\\Users\\bincl\\AppData\\Local\\Programs\\Python\\Python311\\Lib\\site-packages\\pyarrow\\array.pxi:1833\u001b[0m, in \u001b[0;36mpyarrow.lib._array_like_to_pandas\u001b[1;34m()\u001b[0m\n",
      "File \u001b[1;32mc:\\Users\\bincl\\AppData\\Local\\Programs\\Python\\Python311\\Lib\\site-packages\\pyarrow\\pandas-shim.pxi:109\u001b[0m, in \u001b[0;36mpyarrow.lib._PandasAPIShim.series\u001b[1;34m()\u001b[0m\n",
      "File \u001b[1;32mc:\\Users\\bincl\\AppData\\Local\\Programs\\Python\\Python311\\Lib\\site-packages\\pandas\\core\\series.py:342\u001b[0m, in \u001b[0;36mSeries.__init__\u001b[1;34m(self, data, index, dtype, name, copy, fastpath)\u001b[0m\n\u001b[0;32m    337\u001b[0m rdiv: Callable[[Series, Any], Series]\n\u001b[0;32m    339\u001b[0m \u001b[38;5;66;03m# ----------------------------------------------------------------------\u001b[39;00m\n\u001b[0;32m    340\u001b[0m \u001b[38;5;66;03m# Constructors\u001b[39;00m\n\u001b[1;32m--> 342\u001b[0m \u001b[38;5;28;01mdef\u001b[39;00m \u001b[38;5;21m__init__\u001b[39m(\n\u001b[0;32m    343\u001b[0m     \u001b[38;5;28mself\u001b[39m,\n\u001b[0;32m    344\u001b[0m     data\u001b[38;5;241m=\u001b[39m\u001b[38;5;28;01mNone\u001b[39;00m,\n\u001b[0;32m    345\u001b[0m     index\u001b[38;5;241m=\u001b[39m\u001b[38;5;28;01mNone\u001b[39;00m,\n\u001b[0;32m    346\u001b[0m     dtype: Dtype \u001b[38;5;241m|\u001b[39m \u001b[38;5;28;01mNone\u001b[39;00m \u001b[38;5;241m=\u001b[39m \u001b[38;5;28;01mNone\u001b[39;00m,\n\u001b[0;32m    347\u001b[0m     name\u001b[38;5;241m=\u001b[39m\u001b[38;5;28;01mNone\u001b[39;00m,\n\u001b[0;32m    348\u001b[0m     copy: \u001b[38;5;28mbool\u001b[39m \u001b[38;5;241m=\u001b[39m \u001b[38;5;28;01mFalse\u001b[39;00m,\n\u001b[0;32m    349\u001b[0m     fastpath: \u001b[38;5;28mbool\u001b[39m \u001b[38;5;241m=\u001b[39m \u001b[38;5;28;01mFalse\u001b[39;00m,\n\u001b[0;32m    350\u001b[0m ) \u001b[38;5;241m-\u001b[39m\u001b[38;5;241m>\u001b[39m \u001b[38;5;28;01mNone\u001b[39;00m:\n\u001b[0;32m    352\u001b[0m     \u001b[38;5;28;01mif\u001b[39;00m (\n\u001b[0;32m    353\u001b[0m         \u001b[38;5;28misinstance\u001b[39m(data, (SingleBlockManager, SingleArrayManager))\n\u001b[0;32m    354\u001b[0m         \u001b[38;5;129;01mand\u001b[39;00m index \u001b[38;5;129;01mis\u001b[39;00m \u001b[38;5;28;01mNone\u001b[39;00m\n\u001b[1;32m   (...)\u001b[0m\n\u001b[0;32m    357\u001b[0m     ):\n\u001b[0;32m    358\u001b[0m         \u001b[38;5;66;03m# GH#33357 called with just the SingleBlockManager\u001b[39;00m\n\u001b[0;32m    359\u001b[0m         NDFrame\u001b[38;5;241m.\u001b[39m\u001b[38;5;21m__init__\u001b[39m(\u001b[38;5;28mself\u001b[39m, data)\n",
      "\u001b[1;31mKeyboardInterrupt\u001b[0m: "
     ]
    }
   ],
   "source": [
    "pd.read_parquet('C:/Users/bincl/BA-Thesis/Dataset/2gram/parquet/aa.gz.parquet')"
   ]
  },
  {
   "cell_type": "code",
   "execution_count": null,
   "metadata": {},
   "outputs": [],
   "source": [
    "\n",
    "def get_pd_df_from_string(suchstring, df):\n",
    "    x = df.select(['Tokens', 'Data']).where(df.Tokens == suchstring)\n",
    "    matched = x.first()['Data']\n",
    "    \n",
    "    \n",
    "    \n",
    "    \n",
    "    \n",
    "    matched_pandas_df = pd.Series(matched)\n",
    "    matched_pandas_df.sort_index(inplace = True)\n",
    "\n",
    "    matched_pandas_df.index.astype('int')\n",
    "    numbers = list(range(1500,2020))\n",
    "    numbers = map(str, numbers)\n",
    "    matched_pandas_df = matched_pandas_df.reindex(numbers, fill_value= 0)\n",
    "    return matched_pandas_df"
   ]
  },
  {
   "cell_type": "code",
   "execution_count": null,
   "metadata": {},
   "outputs": [
    {
     "ename": "AnalysisException",
     "evalue": "[UNRESOLVED_COLUMN.WITH_SUGGESTION] A column or function parameter with name `Tokens` cannot be resolved. Did you mean one of the following? [`1850,2,1`, `1855,2,2`, `1860,1,1`, `1865,6,6`, `1868,1,1`].;\n'Project ['Tokens, 'Data]\n+- Relation [derartige Beachtung#513,1850,2,1#514,1855,2,2#515,1860,1,1#516,1865,6,6#517,1868,1,1#518,1871,1,1#519,1875,3,2#520,1878,1,1#521,1880,1,1#522,1882,1,1#523,1884,1,1#524,1885,2,2#525,1886,2,2#526,1891,4,4#527,1893,1,1#528,1895,2,2#529,1896,4,4#530,1897,1,1#531,1899,4,4#532,1900,4,4#533,1901,2,2#534,1902,9,9#535,1903,6,6#536,... 209 more fields] parquet\n",
     "output_type": "error",
     "traceback": [
      "\u001b[1;31m---------------------------------------------------------------------------\u001b[0m",
      "\u001b[1;31mAnalysisException\u001b[0m                         Traceback (most recent call last)",
      "Cell \u001b[1;32mIn[6], line 2\u001b[0m\n\u001b[0;32m      1\u001b[0m \u001b[38;5;66;03m# \" Bis 29s on aa file 3:12min auf allen 2gram\u001b[39;00m\n\u001b[1;32m----> 2\u001b[0m matched_pandas_df \u001b[38;5;241m=\u001b[39m \u001b[43mget_pd_df_from_string\u001b[49m\u001b[43m(\u001b[49m\u001b[38;5;124;43m'\u001b[39;49m\u001b[38;5;124;43mFrömmigkeit lehnte\u001b[39;49m\u001b[38;5;124;43m'\u001b[39;49m\u001b[43m,\u001b[49m\u001b[43m \u001b[49m\u001b[43mdf_2gram\u001b[49m\u001b[43m)\u001b[49m\n",
      "Cell \u001b[1;32mIn[5], line 2\u001b[0m, in \u001b[0;36mget_pd_df_from_string\u001b[1;34m(suchstring, df)\u001b[0m\n\u001b[0;32m      1\u001b[0m \u001b[38;5;28;01mdef\u001b[39;00m \u001b[38;5;21mget_pd_df_from_string\u001b[39m(suchstring, df):\n\u001b[1;32m----> 2\u001b[0m     x \u001b[38;5;241m=\u001b[39m \u001b[43mdf\u001b[49m\u001b[38;5;241;43m.\u001b[39;49m\u001b[43mselect\u001b[49m\u001b[43m(\u001b[49m\u001b[43m[\u001b[49m\u001b[38;5;124;43m'\u001b[39;49m\u001b[38;5;124;43mTokens\u001b[39;49m\u001b[38;5;124;43m'\u001b[39;49m\u001b[43m,\u001b[49m\u001b[43m \u001b[49m\u001b[38;5;124;43m'\u001b[39;49m\u001b[38;5;124;43mData\u001b[39;49m\u001b[38;5;124;43m'\u001b[39;49m\u001b[43m]\u001b[49m\u001b[43m)\u001b[49m\u001b[38;5;241m.\u001b[39mwhere(df\u001b[38;5;241m.\u001b[39mTokens \u001b[38;5;241m==\u001b[39m suchstring)\n\u001b[0;32m      3\u001b[0m     matched \u001b[38;5;241m=\u001b[39m x\u001b[38;5;241m.\u001b[39mfirst()[\u001b[38;5;124m'\u001b[39m\u001b[38;5;124mData\u001b[39m\u001b[38;5;124m'\u001b[39m]\n\u001b[0;32m      9\u001b[0m     matched_pandas_df \u001b[38;5;241m=\u001b[39m pd\u001b[38;5;241m.\u001b[39mSeries(matched)\n",
      "File \u001b[1;32mc:\\Users\\bincl\\AppData\\Local\\Programs\\Python\\Python311\\Lib\\site-packages\\pyspark\\sql\\dataframe.py:3223\u001b[0m, in \u001b[0;36mDataFrame.select\u001b[1;34m(self, *cols)\u001b[0m\n\u001b[0;32m   3178\u001b[0m \u001b[38;5;28;01mdef\u001b[39;00m \u001b[38;5;21mselect\u001b[39m(\u001b[38;5;28mself\u001b[39m, \u001b[38;5;241m*\u001b[39mcols: \u001b[38;5;124m\"\u001b[39m\u001b[38;5;124mColumnOrName\u001b[39m\u001b[38;5;124m\"\u001b[39m) \u001b[38;5;241m-\u001b[39m\u001b[38;5;241m>\u001b[39m \u001b[38;5;124m\"\u001b[39m\u001b[38;5;124mDataFrame\u001b[39m\u001b[38;5;124m\"\u001b[39m:  \u001b[38;5;66;03m# type: ignore[misc]\u001b[39;00m\n\u001b[0;32m   3179\u001b[0m     \u001b[38;5;124;03m\"\"\"Projects a set of expressions and returns a new :class:`DataFrame`.\u001b[39;00m\n\u001b[0;32m   3180\u001b[0m \n\u001b[0;32m   3181\u001b[0m \u001b[38;5;124;03m    .. versionadded:: 1.3.0\u001b[39;00m\n\u001b[1;32m   (...)\u001b[0m\n\u001b[0;32m   3221\u001b[0m \u001b[38;5;124;03m    +-----+---+\u001b[39;00m\n\u001b[0;32m   3222\u001b[0m \u001b[38;5;124;03m    \"\"\"\u001b[39;00m\n\u001b[1;32m-> 3223\u001b[0m     jdf \u001b[38;5;241m=\u001b[39m \u001b[38;5;28;43mself\u001b[39;49m\u001b[38;5;241;43m.\u001b[39;49m\u001b[43m_jdf\u001b[49m\u001b[38;5;241;43m.\u001b[39;49m\u001b[43mselect\u001b[49m\u001b[43m(\u001b[49m\u001b[38;5;28;43mself\u001b[39;49m\u001b[38;5;241;43m.\u001b[39;49m\u001b[43m_jcols\u001b[49m\u001b[43m(\u001b[49m\u001b[38;5;241;43m*\u001b[39;49m\u001b[43mcols\u001b[49m\u001b[43m)\u001b[49m\u001b[43m)\u001b[49m\n\u001b[0;32m   3224\u001b[0m     \u001b[38;5;28;01mreturn\u001b[39;00m DataFrame(jdf, \u001b[38;5;28mself\u001b[39m\u001b[38;5;241m.\u001b[39msparkSession)\n",
      "File \u001b[1;32mc:\\Users\\bincl\\AppData\\Local\\Programs\\Python\\Python311\\Lib\\site-packages\\py4j\\java_gateway.py:1322\u001b[0m, in \u001b[0;36mJavaMember.__call__\u001b[1;34m(self, *args)\u001b[0m\n\u001b[0;32m   1316\u001b[0m command \u001b[38;5;241m=\u001b[39m proto\u001b[38;5;241m.\u001b[39mCALL_COMMAND_NAME \u001b[38;5;241m+\u001b[39m\\\n\u001b[0;32m   1317\u001b[0m     \u001b[38;5;28mself\u001b[39m\u001b[38;5;241m.\u001b[39mcommand_header \u001b[38;5;241m+\u001b[39m\\\n\u001b[0;32m   1318\u001b[0m     args_command \u001b[38;5;241m+\u001b[39m\\\n\u001b[0;32m   1319\u001b[0m     proto\u001b[38;5;241m.\u001b[39mEND_COMMAND_PART\n\u001b[0;32m   1321\u001b[0m answer \u001b[38;5;241m=\u001b[39m \u001b[38;5;28mself\u001b[39m\u001b[38;5;241m.\u001b[39mgateway_client\u001b[38;5;241m.\u001b[39msend_command(command)\n\u001b[1;32m-> 1322\u001b[0m return_value \u001b[38;5;241m=\u001b[39m \u001b[43mget_return_value\u001b[49m\u001b[43m(\u001b[49m\n\u001b[0;32m   1323\u001b[0m \u001b[43m    \u001b[49m\u001b[43manswer\u001b[49m\u001b[43m,\u001b[49m\u001b[43m \u001b[49m\u001b[38;5;28;43mself\u001b[39;49m\u001b[38;5;241;43m.\u001b[39;49m\u001b[43mgateway_client\u001b[49m\u001b[43m,\u001b[49m\u001b[43m \u001b[49m\u001b[38;5;28;43mself\u001b[39;49m\u001b[38;5;241;43m.\u001b[39;49m\u001b[43mtarget_id\u001b[49m\u001b[43m,\u001b[49m\u001b[43m \u001b[49m\u001b[38;5;28;43mself\u001b[39;49m\u001b[38;5;241;43m.\u001b[39;49m\u001b[43mname\u001b[49m\u001b[43m)\u001b[49m\n\u001b[0;32m   1325\u001b[0m \u001b[38;5;28;01mfor\u001b[39;00m temp_arg \u001b[38;5;129;01min\u001b[39;00m temp_args:\n\u001b[0;32m   1326\u001b[0m     \u001b[38;5;28;01mif\u001b[39;00m \u001b[38;5;28mhasattr\u001b[39m(temp_arg, \u001b[38;5;124m\"\u001b[39m\u001b[38;5;124m_detach\u001b[39m\u001b[38;5;124m\"\u001b[39m):\n",
      "File \u001b[1;32mc:\\Users\\bincl\\AppData\\Local\\Programs\\Python\\Python311\\Lib\\site-packages\\pyspark\\errors\\exceptions\\captured.py:185\u001b[0m, in \u001b[0;36mcapture_sql_exception.<locals>.deco\u001b[1;34m(*a, **kw)\u001b[0m\n\u001b[0;32m    181\u001b[0m converted \u001b[38;5;241m=\u001b[39m convert_exception(e\u001b[38;5;241m.\u001b[39mjava_exception)\n\u001b[0;32m    182\u001b[0m \u001b[38;5;28;01mif\u001b[39;00m \u001b[38;5;129;01mnot\u001b[39;00m \u001b[38;5;28misinstance\u001b[39m(converted, UnknownException):\n\u001b[0;32m    183\u001b[0m     \u001b[38;5;66;03m# Hide where the exception came from that shows a non-Pythonic\u001b[39;00m\n\u001b[0;32m    184\u001b[0m     \u001b[38;5;66;03m# JVM exception message.\u001b[39;00m\n\u001b[1;32m--> 185\u001b[0m     \u001b[38;5;28;01mraise\u001b[39;00m converted \u001b[38;5;28;01mfrom\u001b[39;00m \u001b[38;5;28mNone\u001b[39m\n\u001b[0;32m    186\u001b[0m \u001b[38;5;28;01melse\u001b[39;00m:\n\u001b[0;32m    187\u001b[0m     \u001b[38;5;28;01mraise\u001b[39;00m\n",
      "\u001b[1;31mAnalysisException\u001b[0m: [UNRESOLVED_COLUMN.WITH_SUGGESTION] A column or function parameter with name `Tokens` cannot be resolved. Did you mean one of the following? [`1850,2,1`, `1855,2,2`, `1860,1,1`, `1865,6,6`, `1868,1,1`].;\n'Project ['Tokens, 'Data]\n+- Relation [derartige Beachtung#513,1850,2,1#514,1855,2,2#515,1860,1,1#516,1865,6,6#517,1868,1,1#518,1871,1,1#519,1875,3,2#520,1878,1,1#521,1880,1,1#522,1882,1,1#523,1884,1,1#524,1885,2,2#525,1886,2,2#526,1891,4,4#527,1893,1,1#528,1895,2,2#529,1896,4,4#530,1897,1,1#531,1899,4,4#532,1900,4,4#533,1901,2,2#534,1902,9,9#535,1903,6,6#536,... 209 more fields] parquet\n"
     ]
    }
   ],
   "source": [
    "# \" Bis 29s on aa file 3:12min auf allen 2gram\n",
    "matched_pandas_df = get_pd_df_from_string('Frömmigkeit lehnte', df_2gram)"
   ]
  },
  {
   "cell_type": "code",
   "execution_count": null,
   "metadata": {},
   "outputs": [],
   "source": [
    "# if id set as default parameter then a list is given if not a spark dataframe is given as parameter df\n",
    "def get_pd_df(df, id = -1):\n",
    "    if id == -1 :\n",
    "        matched = data['Data'] \n",
    "    else: \n",
    "        data = df.select(['Id', 'Data']).filter(df[\"Id\"] == id).limit(1)\n",
    "        matched = data.first()['Data']\n",
    "    \n",
    "    matched_pandas_df = pd.Series(matched)\n",
    "    matched_pandas_df.sort_index(inplace = True)\n",
    "\n",
    "    matched_pandas_df.index.astype('int')\n",
    "    numbers = list(range(1500,2020))\n",
    "    numbers = map(str, numbers)\n",
    "    matched_pandas_df = matched_pandas_df.reindex(numbers, fill_value= 0)\n",
    "    return matched_pandas_df\n",
    "\n",
    "def get_pd_df_from_string(suchstring, df):\n",
    "    x = df.select(['Id', 'Tokens'])\n",
    "    x = x.where(x.Tokens == suchstring)\n",
    "    id = x.first()['Id']\n",
    "    print(id)\n",
    "    return get_pd_df(df,id)      "
   ]
  },
  {
   "cell_type": "code",
   "execution_count": null,
   "metadata": {},
   "outputs": [
    {
     "ename": "AnalysisException",
     "evalue": "[UNRESOLVED_COLUMN.WITH_SUGGESTION] A column or function parameter with name `Id` cannot be resolved. Did you mean one of the following? [`Data`, `Tokens`].;\n'Project ['Id, Data#336]\n+- Project [Tokens#319, Data#336]\n   +- Project [Tokens#319, map_from_arrays(Year#329, Occurrences#330) AS Data#336]\n      +- Project [Tokens#319, transform(Data#325, lambdafunction(lambda x_19#331[0], lambda x_19#331, false)) AS Year#329, cast(transform(Data#325, lambdafunction(lambda x_20#332[1], lambda x_20#332, false)) as array<bigint>) AS Occurrences#330]\n         +- Project [Tokens#319, transform(Data#320, lambdafunction(split(lambda x_18#326, ,, -1), lambda x_18#326, false)) AS Data#325]\n            +- Project [Tokens#319, Data#320]\n               +- Project [element_at(SplitInput#317, 1, None, false) AS Tokens#319, slice(SplitInput#317, 2, size(SplitInput#317, true)) AS Data#320]\n                  +- Project [split(Input#314, \t, -1) AS SplitInput#317]\n                     +- Project [_c0#312 AS Input#314]\n                        +- Relation [_c0#312] csv\n",
     "output_type": "error",
     "traceback": [
      "\u001b[1;31m---------------------------------------------------------------------------\u001b[0m",
      "\u001b[1;31mAnalysisException\u001b[0m                         Traceback (most recent call last)",
      "Cell \u001b[1;32mIn[28], line 1\u001b[0m\n\u001b[1;32m----> 1\u001b[0m \u001b[38;5;28mprint\u001b[39m(\u001b[43mget_pd_df\u001b[49m\u001b[43m(\u001b[49m\u001b[43mdf_2gram\u001b[49m\u001b[43m,\u001b[49m\u001b[43m \u001b[49m\u001b[43mmatched_pandas_df\u001b[49m\u001b[43m)\u001b[49m)\n",
      "Cell \u001b[1;32mIn[27], line 6\u001b[0m, in \u001b[0;36mget_pd_df\u001b[1;34m(df, id)\u001b[0m\n\u001b[0;32m      4\u001b[0m     matched \u001b[38;5;241m=\u001b[39m data[\u001b[38;5;124m'\u001b[39m\u001b[38;5;124mData\u001b[39m\u001b[38;5;124m'\u001b[39m] \n\u001b[0;32m      5\u001b[0m \u001b[38;5;28;01melse\u001b[39;00m: \n\u001b[1;32m----> 6\u001b[0m     data \u001b[38;5;241m=\u001b[39m \u001b[43mdf\u001b[49m\u001b[38;5;241;43m.\u001b[39;49m\u001b[43mselect\u001b[49m\u001b[43m(\u001b[49m\u001b[43m[\u001b[49m\u001b[38;5;124;43m'\u001b[39;49m\u001b[38;5;124;43mId\u001b[39;49m\u001b[38;5;124;43m'\u001b[39;49m\u001b[43m,\u001b[49m\u001b[43m \u001b[49m\u001b[38;5;124;43m'\u001b[39;49m\u001b[38;5;124;43mData\u001b[39;49m\u001b[38;5;124;43m'\u001b[39;49m\u001b[43m]\u001b[49m\u001b[43m)\u001b[49m\u001b[38;5;241m.\u001b[39mfilter(df[\u001b[38;5;124m\"\u001b[39m\u001b[38;5;124mId\u001b[39m\u001b[38;5;124m\"\u001b[39m] \u001b[38;5;241m==\u001b[39m \u001b[38;5;28mid\u001b[39m)\u001b[38;5;241m.\u001b[39mlimit(\u001b[38;5;241m1\u001b[39m)\n\u001b[0;32m      7\u001b[0m     matched \u001b[38;5;241m=\u001b[39m data\u001b[38;5;241m.\u001b[39mfirst()[\u001b[38;5;124m'\u001b[39m\u001b[38;5;124mData\u001b[39m\u001b[38;5;124m'\u001b[39m]\n\u001b[0;32m      9\u001b[0m matched_pandas_df \u001b[38;5;241m=\u001b[39m pd\u001b[38;5;241m.\u001b[39mSeries(matched)\n",
      "File \u001b[1;32mc:\\Users\\bincl\\AppData\\Local\\Programs\\Python\\Python311\\Lib\\site-packages\\pyspark\\sql\\dataframe.py:3223\u001b[0m, in \u001b[0;36mDataFrame.select\u001b[1;34m(self, *cols)\u001b[0m\n\u001b[0;32m   3178\u001b[0m \u001b[38;5;28;01mdef\u001b[39;00m \u001b[38;5;21mselect\u001b[39m(\u001b[38;5;28mself\u001b[39m, \u001b[38;5;241m*\u001b[39mcols: \u001b[38;5;124m\"\u001b[39m\u001b[38;5;124mColumnOrName\u001b[39m\u001b[38;5;124m\"\u001b[39m) \u001b[38;5;241m-\u001b[39m\u001b[38;5;241m>\u001b[39m \u001b[38;5;124m\"\u001b[39m\u001b[38;5;124mDataFrame\u001b[39m\u001b[38;5;124m\"\u001b[39m:  \u001b[38;5;66;03m# type: ignore[misc]\u001b[39;00m\n\u001b[0;32m   3179\u001b[0m     \u001b[38;5;124;03m\"\"\"Projects a set of expressions and returns a new :class:`DataFrame`.\u001b[39;00m\n\u001b[0;32m   3180\u001b[0m \n\u001b[0;32m   3181\u001b[0m \u001b[38;5;124;03m    .. versionadded:: 1.3.0\u001b[39;00m\n\u001b[1;32m   (...)\u001b[0m\n\u001b[0;32m   3221\u001b[0m \u001b[38;5;124;03m    +-----+---+\u001b[39;00m\n\u001b[0;32m   3222\u001b[0m \u001b[38;5;124;03m    \"\"\"\u001b[39;00m\n\u001b[1;32m-> 3223\u001b[0m     jdf \u001b[38;5;241m=\u001b[39m \u001b[38;5;28;43mself\u001b[39;49m\u001b[38;5;241;43m.\u001b[39;49m\u001b[43m_jdf\u001b[49m\u001b[38;5;241;43m.\u001b[39;49m\u001b[43mselect\u001b[49m\u001b[43m(\u001b[49m\u001b[38;5;28;43mself\u001b[39;49m\u001b[38;5;241;43m.\u001b[39;49m\u001b[43m_jcols\u001b[49m\u001b[43m(\u001b[49m\u001b[38;5;241;43m*\u001b[39;49m\u001b[43mcols\u001b[49m\u001b[43m)\u001b[49m\u001b[43m)\u001b[49m\n\u001b[0;32m   3224\u001b[0m     \u001b[38;5;28;01mreturn\u001b[39;00m DataFrame(jdf, \u001b[38;5;28mself\u001b[39m\u001b[38;5;241m.\u001b[39msparkSession)\n",
      "File \u001b[1;32mc:\\Users\\bincl\\AppData\\Local\\Programs\\Python\\Python311\\Lib\\site-packages\\py4j\\java_gateway.py:1322\u001b[0m, in \u001b[0;36mJavaMember.__call__\u001b[1;34m(self, *args)\u001b[0m\n\u001b[0;32m   1316\u001b[0m command \u001b[38;5;241m=\u001b[39m proto\u001b[38;5;241m.\u001b[39mCALL_COMMAND_NAME \u001b[38;5;241m+\u001b[39m\\\n\u001b[0;32m   1317\u001b[0m     \u001b[38;5;28mself\u001b[39m\u001b[38;5;241m.\u001b[39mcommand_header \u001b[38;5;241m+\u001b[39m\\\n\u001b[0;32m   1318\u001b[0m     args_command \u001b[38;5;241m+\u001b[39m\\\n\u001b[0;32m   1319\u001b[0m     proto\u001b[38;5;241m.\u001b[39mEND_COMMAND_PART\n\u001b[0;32m   1321\u001b[0m answer \u001b[38;5;241m=\u001b[39m \u001b[38;5;28mself\u001b[39m\u001b[38;5;241m.\u001b[39mgateway_client\u001b[38;5;241m.\u001b[39msend_command(command)\n\u001b[1;32m-> 1322\u001b[0m return_value \u001b[38;5;241m=\u001b[39m \u001b[43mget_return_value\u001b[49m\u001b[43m(\u001b[49m\n\u001b[0;32m   1323\u001b[0m \u001b[43m    \u001b[49m\u001b[43manswer\u001b[49m\u001b[43m,\u001b[49m\u001b[43m \u001b[49m\u001b[38;5;28;43mself\u001b[39;49m\u001b[38;5;241;43m.\u001b[39;49m\u001b[43mgateway_client\u001b[49m\u001b[43m,\u001b[49m\u001b[43m \u001b[49m\u001b[38;5;28;43mself\u001b[39;49m\u001b[38;5;241;43m.\u001b[39;49m\u001b[43mtarget_id\u001b[49m\u001b[43m,\u001b[49m\u001b[43m \u001b[49m\u001b[38;5;28;43mself\u001b[39;49m\u001b[38;5;241;43m.\u001b[39;49m\u001b[43mname\u001b[49m\u001b[43m)\u001b[49m\n\u001b[0;32m   1325\u001b[0m \u001b[38;5;28;01mfor\u001b[39;00m temp_arg \u001b[38;5;129;01min\u001b[39;00m temp_args:\n\u001b[0;32m   1326\u001b[0m     \u001b[38;5;28;01mif\u001b[39;00m \u001b[38;5;28mhasattr\u001b[39m(temp_arg, \u001b[38;5;124m\"\u001b[39m\u001b[38;5;124m_detach\u001b[39m\u001b[38;5;124m\"\u001b[39m):\n",
      "File \u001b[1;32mc:\\Users\\bincl\\AppData\\Local\\Programs\\Python\\Python311\\Lib\\site-packages\\pyspark\\errors\\exceptions\\captured.py:185\u001b[0m, in \u001b[0;36mcapture_sql_exception.<locals>.deco\u001b[1;34m(*a, **kw)\u001b[0m\n\u001b[0;32m    181\u001b[0m converted \u001b[38;5;241m=\u001b[39m convert_exception(e\u001b[38;5;241m.\u001b[39mjava_exception)\n\u001b[0;32m    182\u001b[0m \u001b[38;5;28;01mif\u001b[39;00m \u001b[38;5;129;01mnot\u001b[39;00m \u001b[38;5;28misinstance\u001b[39m(converted, UnknownException):\n\u001b[0;32m    183\u001b[0m     \u001b[38;5;66;03m# Hide where the exception came from that shows a non-Pythonic\u001b[39;00m\n\u001b[0;32m    184\u001b[0m     \u001b[38;5;66;03m# JVM exception message.\u001b[39;00m\n\u001b[1;32m--> 185\u001b[0m     \u001b[38;5;28;01mraise\u001b[39;00m converted \u001b[38;5;28;01mfrom\u001b[39;00m \u001b[38;5;28mNone\u001b[39m\n\u001b[0;32m    186\u001b[0m \u001b[38;5;28;01melse\u001b[39;00m:\n\u001b[0;32m    187\u001b[0m     \u001b[38;5;28;01mraise\u001b[39;00m\n",
      "\u001b[1;31mAnalysisException\u001b[0m: [UNRESOLVED_COLUMN.WITH_SUGGESTION] A column or function parameter with name `Id` cannot be resolved. Did you mean one of the following? [`Data`, `Tokens`].;\n'Project ['Id, Data#336]\n+- Project [Tokens#319, Data#336]\n   +- Project [Tokens#319, map_from_arrays(Year#329, Occurrences#330) AS Data#336]\n      +- Project [Tokens#319, transform(Data#325, lambdafunction(lambda x_19#331[0], lambda x_19#331, false)) AS Year#329, cast(transform(Data#325, lambdafunction(lambda x_20#332[1], lambda x_20#332, false)) as array<bigint>) AS Occurrences#330]\n         +- Project [Tokens#319, transform(Data#320, lambdafunction(split(lambda x_18#326, ,, -1), lambda x_18#326, false)) AS Data#325]\n            +- Project [Tokens#319, Data#320]\n               +- Project [element_at(SplitInput#317, 1, None, false) AS Tokens#319, slice(SplitInput#317, 2, size(SplitInput#317, true)) AS Data#320]\n                  +- Project [split(Input#314, \t, -1) AS SplitInput#317]\n                     +- Project [_c0#312 AS Input#314]\n                        +- Relation [_c0#312] csv\n"
     ]
    }
   ],
   "source": [
    "print(get_pd_df(df_2gram, matched_pandas_df))"
   ]
  },
  {
   "cell_type": "code",
   "execution_count": null,
   "metadata": {},
   "outputs": [
    {
     "name": "stdout",
     "output_type": "stream",
     "text": [
      "DataFrame Rows count : 38123440\n"
     ]
    }
   ],
   "source": [
    "rows = df_2gram.select(['Id']).count()\n",
    "print(f\"DataFrame Rows count : {rows}\")\n",
    "rows_2gram = 38123440\n",
    "partition_id = rows_2gram/ 8"
   ]
  },
  {
   "cell_type": "code",
   "execution_count": null,
   "metadata": {},
   "outputs": [
    {
     "name": "stdout",
     "output_type": "stream",
     "text": [
      "4765430.0\n"
     ]
    }
   ],
   "source": [
    "rows_2gram = 38123440\n",
    "partition_id = 4765430\n",
    "print(partition_id.)"
   ]
  },
  {
   "cell_type": "code",
   "execution_count": null,
   "metadata": {},
   "outputs": [],
   "source": [
    "desired_row_number = 154619839732\n",
    "desired_row = final_df.select(['Id', 'Data']).rdd.zipWithIndex().filter(lambda x: x[1] == desired_row_number).map(lambda x: x[0]).show()\n",
    " \n",
    "print(desired_row)"
   ]
  },
  {
   "cell_type": "code",
   "execution_count": null,
   "metadata": {},
   "outputs": [
    {
     "name": "stdout",
     "output_type": "stream",
     "text": [
      "154619839732\n"
     ]
    }
   ],
   "source": [
    "matched_pandas_df = get_pd_df_from_string('\" Bis', df_2gram)\n",
    "matched_pandas_df.plot()"
   ]
  },
  {
   "cell_type": "code",
   "execution_count": null,
   "metadata": {},
   "outputs": [],
   "source": []
  }
 ],
 "metadata": {
  "kernelspec": {
   "display_name": "Python 3",
   "language": "python",
   "name": "python3"
  },
  "language_info": {
   "codemirror_mode": {
    "name": "ipython",
    "version": 3
   },
   "file_extension": ".py",
   "mimetype": "text/x-python",
   "name": "python",
   "nbconvert_exporter": "python",
   "pygments_lexer": "ipython3",
   "version": "3.12.1"
  }
 },
 "nbformat": 4,
 "nbformat_minor": 2
}
