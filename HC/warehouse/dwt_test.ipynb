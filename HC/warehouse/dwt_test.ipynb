{
 "cells": [
  {
   "cell_type": "code",
   "execution_count": 38,
   "metadata": {},
   "outputs": [],
   "source": [
    "import pywt\n",
    "import numpy as np\n",
    "from PIL import Image\n",
    "import pandas as pd\n",
    "from scipy.stats import zscore\n",
    "from sklearn.metrics import mean_squared_error\n",
    "\n",
    "\n",
    "def dwt_compression(data):\n",
    "   \n",
    "    coeffs_r = pywt.dwt2(data, 'haar')\n",
    "   \n",
    "    return coeffs_r\n",
    "\n",
    "\n",
    "def dwt_decompress(coeff_dwt):\n",
    "    return pywt.idwt2(coeff_dwt, 'haar')"
   ]
  },
  {
   "cell_type": "code",
   "execution_count": 39,
   "metadata": {},
   "outputs": [],
   "source": [
    "def utf8len(s):\n",
    "    return len(s.encode('utf-8'))"
   ]
  },
  {
   "cell_type": "code",
   "execution_count": 40,
   "metadata": {},
   "outputs": [
    {
     "name": "stdout",
     "output_type": "stream",
     "text": [
      "(array([[1.010000e+02, 1.220000e+02, 1.330000e+02, ..., 3.471450e+04,\n",
      "        3.880400e+04, 4.221200e+04],\n",
      "       [7.450000e+01, 5.900000e+01, 8.850000e+01, ..., 2.633550e+04,\n",
      "        2.839600e+04, 2.964000e+04],\n",
      "       [2.735000e+02, 2.560000e+02, 3.380000e+02, ..., 3.038900e+04,\n",
      "        3.285300e+04, 3.511600e+04],\n",
      "       ...,\n",
      "       [2.490500e+03, 2.258500e+03, 2.624500e+03, ..., 3.341550e+04,\n",
      "        3.641700e+04, 4.092400e+04],\n",
      "       [4.800000e+01, 3.400000e+01, 5.850000e+01, ..., 1.672900e+04,\n",
      "        1.787100e+04, 2.093900e+04],\n",
      "       [1.381500e+03, 1.514500e+03, 1.708500e+03, ..., 1.627075e+05,\n",
      "        1.783220e+05, 2.063610e+05]]), (array([[ 1.010000e+02,  1.220000e+02,  1.330000e+02, ...,  9.917500e+03,\n",
      "         1.318600e+04,  1.257200e+04],\n",
      "       [-6.150000e+01, -4.500000e+01, -3.650000e+01, ..., -6.181500e+03,\n",
      "        -6.153000e+03, -7.954000e+03],\n",
      "       [ 2.495000e+02,  1.600000e+02,  2.690000e+02, ...,  2.506100e+04,\n",
      "         2.568400e+04,  2.844800e+04],\n",
      "       ...,\n",
      "       [ 2.119500e+03,  1.833500e+03,  2.108500e+03, ..., -6.757500e+03,\n",
      "        -8.218000e+03, -8.234000e+03],\n",
      "       [ 4.800000e+01,  3.400000e+01,  5.750000e+01, ...,  1.702000e+03,\n",
      "         1.637000e+03,  7.970000e+02],\n",
      "       [ 1.288500e+03,  1.421500e+03,  1.636500e+03, ..., -1.135665e+05,\n",
      "        -1.259480e+05, -1.447210e+05]]), array([[-2.9000e+01, -1.2000e+01, -2.0000e+00, ...,  3.3850e+02,\n",
      "         6.1000e+02,  0.0000e+00],\n",
      "       [ 3.3500e+01, -2.0000e+00, -3.3500e+01, ..., -5.9250e+02,\n",
      "        -7.2400e+02,  0.0000e+00],\n",
      "       [-2.2500e+01,  6.3000e+01,  5.0000e+00, ...,  1.3800e+02,\n",
      "        -1.1770e+03,  0.0000e+00],\n",
      "       ...,\n",
      "       [-1.2550e+02,  1.5000e+00, -7.3500e+01, ..., -1.0150e+02,\n",
      "        -8.2700e+02,  0.0000e+00],\n",
      "       [-2.0000e+00, -4.0000e+00,  6.5000e+00, ...,  2.7000e+01,\n",
      "        -8.7700e+02,  0.0000e+00],\n",
      "       [-6.8500e+01, -7.8500e+01,  2.4500e+01, ..., -4.4015e+03,\n",
      "        -7.0950e+03,  0.0000e+00]]), array([[-2.9000e+01, -1.2000e+01, -2.0000e+00, ...,  5.8950e+02,\n",
      "         1.1400e+03,  0.0000e+00],\n",
      "       [-2.4500e+01,  2.0000e+00,  7.5000e+00, ..., -3.9150e+02,\n",
      "         2.0700e+02,  0.0000e+00],\n",
      "       [-2.5000e+00, -1.1000e+01,  2.0000e+00, ...,  4.0000e+01,\n",
      "        -1.6440e+03,  0.0000e+00],\n",
      "       ...,\n",
      "       [-2.0850e+02,  4.5000e+00,  2.0500e+01, ..., -1.3650e+02,\n",
      "         5.2800e+02,  0.0000e+00],\n",
      "       [-2.0000e+00, -4.0000e+00,  7.5000e+00, ...,  7.6000e+01,\n",
      "        -1.0900e+02,  0.0000e+00],\n",
      "       [-1.0950e+02, -8.3500e+01,  1.0500e+01, ...,  3.7305e+03,\n",
      "         8.1590e+03,  0.0000e+00]])))\n",
      "2\n"
     ]
    }
   ],
   "source": [
    "#df = pd.read_csv('/mnt/simhomes/binzc/results/1gram.csv')\n",
    "df = pd.read_csv('/mnt/simhomes/binzc/results/zscore_np_20k.csv')\n",
    "data=df.to_numpy()\n",
    "compressed = dwt_compression(data)\n",
    "print(compressed)\n",
    "print(len(compressed))"
   ]
  },
  {
   "cell_type": "code",
   "execution_count": 41,
   "metadata": {},
   "outputs": [
    {
     "data": {
      "text/plain": [
       "array([[    72,    130,    110, ...,  26870,  25120,  27392],\n",
       "       [     0,      0,      0, ...,  12544,  13074,  14820],\n",
       "       [    11,      2,      7, ...,  10863,  11380,  10843],\n",
       "       ...,\n",
       "       [     0,      0,      0, ...,   7733,   8501,  10071],\n",
       "       [  1246,   1424,   1387, ...,  26719,  25655,  30820],\n",
       "       [    67,     26,     49, ..., 144508, 159762, 175541]], dtype=int64)"
      ]
     },
     "metadata": {},
     "output_type": "display_data"
    },
    {
     "data": {
      "text/plain": [
       "array([[7.20000e+01, 1.30000e+02, 1.10000e+02, ..., 2.51200e+04,\n",
       "        2.73920e+04, 2.73920e+04],\n",
       "       [0.00000e+00, 0.00000e+00, 0.00000e+00, ..., 1.30740e+04,\n",
       "        1.48200e+04, 1.48200e+04],\n",
       "       [1.10000e+01, 2.00000e+00, 7.00000e+00, ..., 1.13800e+04,\n",
       "        1.08430e+04, 1.08430e+04],\n",
       "       ...,\n",
       "       [0.00000e+00, 0.00000e+00, 0.00000e+00, ..., 8.50100e+03,\n",
       "        1.00710e+04, 1.00710e+04],\n",
       "       [1.24600e+03, 1.42400e+03, 1.38700e+03, ..., 2.56550e+04,\n",
       "        3.08200e+04, 3.08200e+04],\n",
       "       [6.70000e+01, 2.60000e+01, 4.90000e+01, ..., 1.59762e+05,\n",
       "        1.75541e+05, 1.75541e+05]])"
      ]
     },
     "metadata": {},
     "output_type": "display_data"
    },
    {
     "name": "stdout",
     "output_type": "stream",
     "text": [
      "20000\n"
     ]
    }
   ],
   "source": [
    "decompressed= dwt_decompress(compressed)\n",
    "display(data)\n",
    "display(decompressed)\n",
    "print(len(decompressed))\n"
   ]
  },
  {
   "cell_type": "code",
   "execution_count": 42,
   "metadata": {},
   "outputs": [
    {
     "name": "stdout",
     "output_type": "stream",
     "text": [
      "[[-0.05476221 -0.05355734 -0.0542592  ... -0.04099708 -0.04388755\n",
      "  -0.04384673]\n",
      " [-0.0560654  -0.05586921 -0.05632819 ... -0.05365575 -0.05385995\n",
      "  -0.05346174]\n",
      " [-0.0558663  -0.05583364 -0.05619653 ... -0.05514111 -0.05526234\n",
      "  -0.05650333]\n",
      " ...\n",
      " [-0.0560654  -0.05586921 -0.05632819 ... -0.05790683 -0.05764575\n",
      "  -0.05709375]\n",
      " [-0.03351293 -0.03054543 -0.03024006 ... -0.04113051 -0.04344464\n",
      "  -0.04122502]\n",
      " [-0.05485271 -0.05540683 -0.05540655 ...  0.06294966  0.06757717\n",
      "   0.06945687]]\n",
      "[[-0.05476221 -0.05355734 -0.0542592  ... -0.04388755 -0.04384673\n",
      "  -0.04384673]\n",
      " [-0.0560654  -0.05586921 -0.05632819 ... -0.05385995 -0.05346174\n",
      "  -0.05346174]\n",
      " [-0.0558663  -0.05583364 -0.05619653 ... -0.05526234 -0.05650333\n",
      "  -0.05650333]\n",
      " ...\n",
      " [-0.0560654  -0.05586921 -0.05632819 ... -0.05764575 -0.05709375\n",
      "  -0.05709375]\n",
      " [-0.03351293 -0.03054543 -0.03024006 ... -0.04344464 -0.04122502\n",
      "  -0.04122502]\n",
      " [-0.05485271 -0.05540683 -0.05540655 ...  0.06757717  0.06945687\n",
      "   0.06945687]]\n",
      "3.2137389473672373e-15\n"
     ]
    }
   ],
   "source": [
    "zscore_original = np.array(zscore(data))\n",
    "zscore_decompressed = np.array(zscore(decompressed))\n",
    "     \n",
    "\n",
    "print(zscore_original)        \n",
    "print(zscore_decompressed)   \n",
    "\n",
    "min_cols = min(zscore_original.shape[1], zscore_decompressed.shape[1])\n",
    "zscore_original = zscore_original[:, :min_cols]\n",
    "zscore_decompressed = zscore_decompressed[:, :min_cols]\n",
    "\n",
    "rmse = mean_squared_error(zscore_original, zscore_decompressed, squared = False)\n",
    "print(rmse) "
   ]
  },
  {
   "cell_type": "code",
   "execution_count": 48,
   "metadata": {},
   "outputs": [
    {
     "name": "stdout",
     "output_type": "stream",
     "text": [
      "The given array is: [[    72    130    110 ...  26870  25120  27392]\n",
      " [     0      0      0 ...  12544  13074  14820]\n",
      " [    11      2      7 ...  10863  11380  10843]\n",
      " ...\n",
      " [     0      0      0 ...   7733   8501  10071]\n",
      " [  1246   1424   1387 ...  26719  25655  30820]\n",
      " [    67     26     49 ... 144508 159762 175541]]\n",
      "The size of array arr is: 4020000\n",
      "The memorysize of each element of arr is: 8 bytes\n",
      "The memory size of numpy array arr is: 32160000 bytes\n",
      "128  bytes\n"
     ]
    }
   ],
   "source": [
    "import sys\n",
    "print(\"The given array is:\",data)\n",
    "print(\"The size of array arr is:\",data.size)\n",
    "print(\"The memorysize of each element of arr is:\", data.itemsize,\"bytes\")\n",
    "print(\"The memory size of numpy array arr is:\",data.itemsize*data.size,\"bytes\")\n",
    "\n",
    "print(sys.getsizeof(data) ,\" bytes\")"
   ]
  },
  {
   "cell_type": "code",
   "execution_count": 47,
   "metadata": {},
   "outputs": [
    {
     "name": "stdout",
     "output_type": "stream",
     "text": [
      "56  bytes\n"
     ]
    }
   ],
   "source": [
    "c_data=compressed\n",
    "print(sys.getsizeof(c_data) ,\" bytes\")\n"
   ]
  }
 ],
 "metadata": {
  "kernelspec": {
   "display_name": "Python 3",
   "language": "python",
   "name": "python3"
  },
  "language_info": {
   "codemirror_mode": {
    "name": "ipython",
    "version": 3
   },
   "file_extension": ".py",
   "mimetype": "text/x-python",
   "name": "python",
   "nbconvert_exporter": "python",
   "pygments_lexer": "ipython3",
   "version": "3.11.0"
  }
 },
 "nbformat": 4,
 "nbformat_minor": 2
}
