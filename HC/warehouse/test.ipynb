{
 "cells": [
  {
   "cell_type": "code",
   "execution_count": null,
   "metadata": {},
   "outputs": [],
   "source": [
    "import csv\n",
    "from itertools import chain\n",
    "from pyspark import StorageLevel\n",
    "from pyspark.sql import SparkSession\n",
    "import pyspark.pandas as ps\n",
    "import pandas as pd\n",
    "import statsmodels.api as sm\n",
    "from pyspark.sql.types import *\n",
    "import numpy as np\n",
    "\n",
    "'''       \n",
    "df = spark.read.parquet(\"/mnt/simhomes/binzc/parquets/full_final_df\").select(\"NgramId\",\"ZScore_N_Array\")\n",
    "df.printSchema()\n",
    "#np_full = df.toPandas().to_numpy()\n",
    "np_full_zscore = df.select(\"ZScore_N_Array\").toPandas()\n",
    "\n",
    "np_full_zscore.to_numpy()\n",
    "\n",
    "#np.save(\"/mnt/simhomes/binzc/results/full_np\", np_full)\n",
    "#np.savetxt(\"/mnt/simhomes/binzc/results/full_np\", np_full, delimiter=',')\n",
    "print(np_full_zscore)\n",
    "np.save(\"/mnt/simhomes/binzc/results/zscore_np\", np_full_zscore)\n",
    "np.savetxt(\"/mnt/simhomes/binzc/results/zscore_np\", np_full_zscore, fmt='%s')\n",
    "'''\n",
    "file_path = '\"C:/Users/bincl/Desktop/zscore_np_20k.npy\"'\n",
    "\n",
    "# Load the array from the .npy file\n",
    "loaded_array = np.load(file_path)\n",
    "\n",
    "# Display the array\n",
    "print(\"Array from the .npy file:\")\n",
    "print(loaded_array)\n",
    "# Print the data\n"
   ]
  }
 ],
 "metadata": {
  "language_info": {
   "name": "python"
  }
 },
 "nbformat": 4,
 "nbformat_minor": 2
}
