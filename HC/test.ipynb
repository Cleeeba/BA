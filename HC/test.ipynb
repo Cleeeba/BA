{
 "cells": [
  {
   "cell_type": "code",
   "execution_count": 13,
   "metadata": {},
   "outputs": [
    {
     "name": "stdout",
     "output_type": "stream",
     "text": [
      "               1400  1401  1402  1403  1404  1405  1406  1407  1408  1409  \\\n",
      "Empfehlungen      0     0     0     0     0     0     0     0     0     0   \n",
      "Fachbereich       0     0     0     0     0     0     0     0     0     0   \n",
      "Besprechungen     0     0     0     0     0     0     0     0     0     0   \n",
      "Berechtigung      0     0     0     0     0     0     0     0     0     0   \n",
      "Beiträgen         0     0     0     0     0     0     0     0     0     0   \n",
      "...             ...   ...   ...   ...   ...   ...   ...   ...   ...   ...   \n",
      "geistig           0     0     0     0     0     0     0     0     0     0   \n",
      "einsetzte         0     0     0     0     0     0     0     0     0     0   \n",
      "fasziniert        0     0     0     0     0     0     0     0     0     0   \n",
      "fährt             0     0     0     0     0     0     0     0     0     0   \n",
      "jeweiligen        0     0     0     0     0     0     0     0     0     0   \n",
      "\n",
      "               ...    2011    2012    2013    2014    2015    2016    2017  \\\n",
      "Empfehlungen   ...   67124   67544  149936   67999   68344   67296   68646   \n",
      "Fachbereich    ...   16443   14840   35833   14179   12920   12164   11502   \n",
      "Besprechungen  ...   12492   15141   30280   16278   17439   16028   16204   \n",
      "Berechtigung   ...   28867   33971   75432   30937   34008   32452   35283   \n",
      "Beiträgen      ...   29478   30248   66436   31451   31907   30456   30183   \n",
      "...            ...     ...     ...     ...     ...     ...     ...     ...   \n",
      "geistig        ...   41894   50406   83959   59664   60011   62328   61532   \n",
      "einsetzte      ...   14410   17730   27217   21911   22934   22031   23065   \n",
      "fasziniert     ...   26579   34754   46331   54425   58061   55910   55383   \n",
      "fährt          ...   80510  120273  165122  171545  191763  190010  195997   \n",
      "jeweiligen     ...  343435  333215  823906  361965  352392  343683  339492   \n",
      "\n",
      "                 2018    2019  2020  \n",
      "Empfehlungen    69628   60539     0  \n",
      "Fachbereich     13833   10587     0  \n",
      "Besprechungen   15816   13468     0  \n",
      "Berechtigung    31486   30472     0  \n",
      "Beiträgen       29187   25007     0  \n",
      "...               ...     ...   ...  \n",
      "geistig         51722   45099     0  \n",
      "einsetzte       20782   18304     0  \n",
      "fasziniert      54448   52195     0  \n",
      "fährt          186778  167686     0  \n",
      "jeweiligen     346882  298751     0  \n",
      "\n",
      "[20000 rows x 621 columns]\n"
     ]
    }
   ],
   "source": [
    "import gzip\n",
    "import pandas as pd\n",
    "import matplotlib.pyplot as plt\n",
    "\n",
    "years = list(range(1400, 2021))\n",
    "words = []\n",
    "data_year = []\n",
    "with gzip.open('C:/Users/bincl/BA-Thesis/Dataset/1_20000_nopos.gz','rt', encoding='utf-8') as input:\n",
    "    for line in input:\n",
    "        values = line.strip().split(\"\\t\")\n",
    "        words.append(values[0]) \n",
    "        data = [entry.split(\",\") for entry in values[1:]]\n",
    "        year = {entry[0]: entry[1] for entry in data}\n",
    "        data_year.append(year)\n",
    "        \n",
    "df = pd.DataFrame(index=words, columns= years)      \n",
    "for i, word_data in enumerate(data_year):\n",
    "    word = words[i]\n",
    "    for year, value in word_data.items():\n",
    "        df.at[word, int(year)] = value  # Füge den Wert an der entsprechenden Position im DataFrame ein\n",
    "\n",
    "# Fülle die NaN-Werte im DataFrame mit 0\n",
    "df.fillna(0, inplace=True)\n",
    "print(df) \n"
   ]
  },
  {
   "cell_type": "code",
   "execution_count": 17,
   "metadata": {},
   "outputs": [
    {
     "name": "stdout",
     "output_type": "stream",
     "text": [
      "[[0 0 0 ... '69628' '60539' 0]\n",
      " [0 0 0 ... '13833' '10587' 0]\n",
      " [0 0 0 ... '15816' '13468' 0]\n",
      " ...\n",
      " [0 0 0 ... '54448' '52195' 0]\n",
      " [0 0 0 ... '186778' '167686' 0]\n",
      " [0 0 0 ... '346882' '298751' 0]]\n"
     ]
    }
   ],
   "source": [
    "import numpy as np\n",
    "import pickle\n",
    "\n",
    "numpy_array = df.values\n",
    "\n",
    "# Das Numpy-Array enthält die Werte aus dem DataFrame\n",
    "print(numpy_array)\n",
    "\n",
    "#np.save('Uf48.bin.dat', numpy_array)\n",
    "with open('Uf48.bin.dat', 'wb') as file:\n",
    "    pickle.dump(numpy_array, file)"
   ]
  },
  {
   "cell_type": "code",
   "execution_count": 3,
   "metadata": {},
   "outputs": [
    {
     "ename": "FileNotFoundError",
     "evalue": "[Errno 2] No such file or directory: 'C:/Users/bincl/BA-Thesis/1_20000_nopos.gz'",
     "output_type": "error",
     "traceback": [
      "\u001b[1;31m---------------------------------------------------------------------------\u001b[0m",
      "\u001b[1;31mFileNotFoundError\u001b[0m                         Traceback (most recent call last)",
      "\u001b[1;32mc:\\Users\\bincl\\BA-Thesis\\BA\\HC\\test.ipynb Cell 2\u001b[0m line \u001b[0;36m<cell line: 13>\u001b[1;34m()\u001b[0m\n\u001b[0;32m     <a href='vscode-notebook-cell:/c%3A/Users/bincl/BA-Thesis/BA/HC/test.ipynb#W1sZmlsZQ%3D%3D?line=9'>10</a>\u001b[0m \u001b[39m# Erstellen eines leeren DataFrames mit der ersten Spalte als Index\u001b[39;00m\n\u001b[0;32m     <a href='vscode-notebook-cell:/c%3A/Users/bincl/BA-Thesis/BA/HC/test.ipynb#W1sZmlsZQ%3D%3D?line=10'>11</a>\u001b[0m df \u001b[39m=\u001b[39m pd\u001b[39m.\u001b[39mDataFrame()\n\u001b[1;32m---> <a href='vscode-notebook-cell:/c%3A/Users/bincl/BA-Thesis/BA/HC/test.ipynb#W1sZmlsZQ%3D%3D?line=12'>13</a>\u001b[0m \u001b[39mwith\u001b[39;00m gzip\u001b[39m.\u001b[39;49mopen(\u001b[39m'\u001b[39;49m\u001b[39mC:/Users/bincl/BA-Thesis/1_20000_nopos.gz\u001b[39;49m\u001b[39m'\u001b[39;49m, \u001b[39m'\u001b[39;49m\u001b[39mrt\u001b[39;49m\u001b[39m'\u001b[39;49m, encoding\u001b[39m=\u001b[39;49m\u001b[39m'\u001b[39;49m\u001b[39mutf-8\u001b[39;49m\u001b[39m'\u001b[39;49m) \u001b[39mas\u001b[39;00m input_file:\n\u001b[0;32m     <a href='vscode-notebook-cell:/c%3A/Users/bincl/BA-Thesis/BA/HC/test.ipynb#W1sZmlsZQ%3D%3D?line=13'>14</a>\u001b[0m     lines \u001b[39m=\u001b[39m input_file\u001b[39m.\u001b[39mreadlines()\n\u001b[0;32m     <a href='vscode-notebook-cell:/c%3A/Users/bincl/BA-Thesis/BA/HC/test.ipynb#W1sZmlsZQ%3D%3D?line=15'>16</a>\u001b[0m     \u001b[39m# Anzahl der Prozesse (Kerne) festlegen\u001b[39;00m\n",
      "File \u001b[1;32mc:\\Users\\bincl\\Anaconda3\\lib\\gzip.py:58\u001b[0m, in \u001b[0;36mopen\u001b[1;34m(filename, mode, compresslevel, encoding, errors, newline)\u001b[0m\n\u001b[0;32m     56\u001b[0m gz_mode \u001b[39m=\u001b[39m mode\u001b[39m.\u001b[39mreplace(\u001b[39m\"\u001b[39m\u001b[39mt\u001b[39m\u001b[39m\"\u001b[39m, \u001b[39m\"\u001b[39m\u001b[39m\"\u001b[39m)\n\u001b[0;32m     57\u001b[0m \u001b[39mif\u001b[39;00m \u001b[39misinstance\u001b[39m(filename, (\u001b[39mstr\u001b[39m, \u001b[39mbytes\u001b[39m, os\u001b[39m.\u001b[39mPathLike)):\n\u001b[1;32m---> 58\u001b[0m     binary_file \u001b[39m=\u001b[39m GzipFile(filename, gz_mode, compresslevel)\n\u001b[0;32m     59\u001b[0m \u001b[39melif\u001b[39;00m \u001b[39mhasattr\u001b[39m(filename, \u001b[39m\"\u001b[39m\u001b[39mread\u001b[39m\u001b[39m\"\u001b[39m) \u001b[39mor\u001b[39;00m \u001b[39mhasattr\u001b[39m(filename, \u001b[39m\"\u001b[39m\u001b[39mwrite\u001b[39m\u001b[39m\"\u001b[39m):\n\u001b[0;32m     60\u001b[0m     binary_file \u001b[39m=\u001b[39m GzipFile(\u001b[39mNone\u001b[39;00m, gz_mode, compresslevel, filename)\n",
      "File \u001b[1;32mc:\\Users\\bincl\\Anaconda3\\lib\\gzip.py:173\u001b[0m, in \u001b[0;36mGzipFile.__init__\u001b[1;34m(self, filename, mode, compresslevel, fileobj, mtime)\u001b[0m\n\u001b[0;32m    171\u001b[0m     mode \u001b[39m+\u001b[39m\u001b[39m=\u001b[39m \u001b[39m'\u001b[39m\u001b[39mb\u001b[39m\u001b[39m'\u001b[39m\n\u001b[0;32m    172\u001b[0m \u001b[39mif\u001b[39;00m fileobj \u001b[39mis\u001b[39;00m \u001b[39mNone\u001b[39;00m:\n\u001b[1;32m--> 173\u001b[0m     fileobj \u001b[39m=\u001b[39m \u001b[39mself\u001b[39m\u001b[39m.\u001b[39mmyfileobj \u001b[39m=\u001b[39m builtins\u001b[39m.\u001b[39;49mopen(filename, mode \u001b[39mor\u001b[39;49;00m \u001b[39m'\u001b[39;49m\u001b[39mrb\u001b[39;49m\u001b[39m'\u001b[39;49m)\n\u001b[0;32m    174\u001b[0m \u001b[39mif\u001b[39;00m filename \u001b[39mis\u001b[39;00m \u001b[39mNone\u001b[39;00m:\n\u001b[0;32m    175\u001b[0m     filename \u001b[39m=\u001b[39m \u001b[39mgetattr\u001b[39m(fileobj, \u001b[39m'\u001b[39m\u001b[39mname\u001b[39m\u001b[39m'\u001b[39m, \u001b[39m'\u001b[39m\u001b[39m'\u001b[39m)\n",
      "\u001b[1;31mFileNotFoundError\u001b[0m: [Errno 2] No such file or directory: 'C:/Users/bincl/BA-Thesis/1_20000_nopos.gz'"
     ]
    }
   ],
   "source": [
    "from multiprocessing import Pool\n",
    "\n",
    "def process_line(line):\n",
    "    values = line.strip().split(\"\\t\")\n",
    "    word = values[0]\n",
    "    data = [entry.split(\",\") for entry in values[1:]]\n",
    "    columns = {entry[0]: entry[1] for entry in data}\n",
    "    return pd.DataFrame(columns, index=[word])\n",
    "\n",
    "# Erstellen eines leeren DataFrames mit der ersten Spalte als Index\n",
    "df = pd.DataFrame()\n",
    "\n",
    "with gzip.open('C:/Users/bincl/BA-Thesis/1_20000_nopos.gz', 'rt', encoding='utf-8') as input_file:\n",
    "    lines = input_file.readlines()\n",
    "\n",
    "    # Anzahl der Prozesse (Kerne) festlegen\n",
    "    num_processes = 4\n",
    "    with Pool(num_processes) as pool:\n",
    "        result = pool.map(process_line, lines)\n",
    "    \n",
    "    df = pd.concat(result)\n",
    "\n",
    "# Umbenennung der Spaltennamen\n",
    "df.columns.name = 'Word'\n",
    "\n",
    "print(df)"
   ]
  }
 ],
 "metadata": {
  "kernelspec": {
   "display_name": "Python 3",
   "language": "python",
   "name": "python3"
  },
  "language_info": {
   "codemirror_mode": {
    "name": "ipython",
    "version": 3
   },
   "file_extension": ".py",
   "mimetype": "text/x-python",
   "name": "python",
   "nbconvert_exporter": "python",
   "pygments_lexer": "ipython3",
   "version": "3.9.12"
  }
 },
 "nbformat": 4,
 "nbformat_minor": 2
}
