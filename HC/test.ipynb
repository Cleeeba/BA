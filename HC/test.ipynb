{
 "cells": [
  {
   "cell_type": "code",
   "execution_count": 3,
   "metadata": {},
   "outputs": [
    {
     "name": "stdout",
     "output_type": "stream",
     "text": [
      "               1470  1471  1472 1473  1474 1475  1476 1477  1478  1479  ...  \\\n",
      "Empfehlungen      0     0     0    0     0    0     0    0     0     0  ...   \n",
      "Fachbereich       0     0     0    0     0    0     0    0     0     0  ...   \n",
      "Besprechungen     0     0     0    0     0    0     0    0     0     0  ...   \n",
      "Berechtigung      0     0     0    0     0    0     0    0     0     0  ...   \n",
      "Beiträgen         0     0     0    0     0    0     0    0     0     0  ...   \n",
      "...             ...   ...   ...  ...   ...  ...   ...  ...   ...   ...  ...   \n",
      "geistig           0     0     0    0     0    0     0    0     0     0  ...   \n",
      "einsetzte         0     0     0    0     0    0     0    0     0     0  ...   \n",
      "fasziniert        0     0     0    0     0    0     0    0     0     0  ...   \n",
      "fährt             0     0     0    0     0    0     0    0     0     0  ...   \n",
      "jeweiligen        0     0     0    0     0    2     0    0     0     0  ...   \n",
      "\n",
      "                 2011    2012    2013    2014    2015    2016    2017    2018  \\\n",
      "Empfehlungen    67124   67544  149936   67999   68344   67296   68646   69628   \n",
      "Fachbereich     16443   14840   35833   14179   12920   12164   11502   13833   \n",
      "Besprechungen   12492   15141   30280   16278   17439   16028   16204   15816   \n",
      "Berechtigung    28867   33971   75432   30937   34008   32452   35283   31486   \n",
      "Beiträgen       29478   30248   66436   31451   31907   30456   30183   29187   \n",
      "...               ...     ...     ...     ...     ...     ...     ...     ...   \n",
      "geistig         41894   50406   83959   59664   60011   62328   61532   51722   \n",
      "einsetzte       14410   17730   27217   21911   22934   22031   23065   20782   \n",
      "fasziniert      26579   34754   46331   54425   58061   55910   55383   54448   \n",
      "fährt           80510  120273  165122  171545  191763  190010  195997  186778   \n",
      "jeweiligen     343435  333215  823906  361965  352392  343683  339492  346882   \n",
      "\n",
      "                 2019 2020  \n",
      "Empfehlungen    60539    0  \n",
      "Fachbereich     10587    0  \n",
      "Besprechungen   13468    0  \n",
      "Berechtigung    30472    0  \n",
      "Beiträgen       25007    0  \n",
      "...               ...  ...  \n",
      "geistig         45099    0  \n",
      "einsetzte       18304    0  \n",
      "fasziniert      52195    0  \n",
      "fährt          167686    0  \n",
      "jeweiligen     298751    0  \n",
      "\n",
      "[20000 rows x 551 columns]\n"
     ]
    }
   ],
   "source": [
    "import gzip\n",
    "import pandas as pd\n",
    "import matplotlib.pyplot as plt\n",
    "\n",
    "years = list(range(1470, 2021))\n",
    "words = []\n",
    "data_year = []\n",
    "with gzip.open('C:/Users/bincl/BA-Thesis/Dataset/1_20000_nopos.gz','rt', encoding='utf-8') as input:\n",
    "    for line in input:\n",
    "        values = line.strip().split(\"\\t\")\n",
    "        words.append(values[0]) \n",
    "        data = [entry.split(\",\") for entry in values[1:]]\n",
    "        year = {entry[0]: entry[1] for entry in data}\n",
    "        data_year.append(year)\n",
    "        \n",
    "df = pd.DataFrame(index=words, columns= years)      \n",
    "for i, word_data in enumerate(data_year):\n",
    "    word = words[i]\n",
    "    for year, value in word_data.items():\n",
    "        df.at[word, int(year)] = value  # Füge den Wert an der entsprechenden Position im DataFrame ein\n",
    "\n",
    "# Fülle die NaN-Werte im DataFrame mit 0\n",
    "df.fillna(0, inplace=True)\n",
    "print(df) \n"
   ]
  },
  {
   "cell_type": "code",
   "execution_count": 8,
   "metadata": {},
   "outputs": [
    {
     "name": "stdout",
     "output_type": "stream",
     "text": [
      "[[0 0 0 ... '69628' '60539' 0]\n",
      " [0 0 0 ... '13833' '10587' 0]\n",
      " [0 0 0 ... '15816' '13468' 0]\n",
      " ...\n",
      " [0 0 0 ... '54448' '52195' 0]\n",
      " [0 0 0 ... '186778' '167686' 0]\n",
      " [0 0 0 ... '346882' '298751' 0]]\n"
     ]
    }
   ],
   "source": [
    "import numpy as np\n",
    "import pickle\n",
    "\n",
    "numpy_array = df.values\n",
    "\n",
    "# Das Numpy-Array enthält die Werte aus dem DataFrame\n",
    "print(numpy_array)\n",
    "\n",
    "converted_array = np.empty(numpy_array.shape)\n",
    "for idx, row in enumerate(numpy_array):\n",
    "    for jdx, val in enumerate(row):\n",
    "        try:\n",
    "            converted_array[idx, jdx] = float(val)\n",
    "        except (ValueError, TypeError):\n",
    "            converted_array[idx, jdx] = val\n",
    "\n",
    "np.savetxt('1grams_TEST.tsv', converted_array, delimiter='\\t', fmt='%s')\n",
    "\n",
    "\n",
    "with open('Uf48.bin.dat', 'wb') as file:\n",
    "    pickle.dump(numpy_array, file)"
   ]
  },
  {
   "cell_type": "code",
   "execution_count": null,
   "metadata": {},
   "outputs": [],
   "source": [
    "from multiprocessing import Pool\n",
    "\n",
    "def process_line(line):\n",
    "    values = line.strip().split(\"\\t\")\n",
    "    word = values[0]\n",
    "    data = [entry.split(\",\") for entry in values[1:]]\n",
    "    columns = {entry[0]: entry[1] for entry in data}\n",
    "    return pd.DataFrame(columns, index=[word])\n",
    "\n",
    "# Erstellen eines leeren DataFrames mit der ersten Spalte als Index\n",
    "df = pd.DataFrame()\n",
    "\n",
    "with gzip.open('C:/Users/bincl/BA-Thesis/1_20000_nopos.gz', 'rt', encoding='utf-8') as input_file:\n",
    "    lines = input_file.readlines()\n",
    "\n",
    "    # Anzahl der Prozesse (Kerne) festlegen\n",
    "    num_processes = 4\n",
    "    with Pool(num_processes) as pool:\n",
    "        result = pool.map(process_line, lines)\n",
    "    \n",
    "    df = pd.concat(result)\n",
    "\n",
    "# Umbenennung der Spaltennamen\n",
    "df.columns.name = 'Word'\n",
    "\n",
    "print(df)"
   ]
  }
 ],
 "metadata": {
  "kernelspec": {
   "display_name": "Python 3",
   "language": "python",
   "name": "python3"
  },
  "language_info": {
   "codemirror_mode": {
    "name": "ipython",
    "version": 3
   },
   "file_extension": ".py",
   "mimetype": "text/x-python",
   "name": "python",
   "nbconvert_exporter": "python",
   "pygments_lexer": "ipython3",
   "version": "3.10.8"
  }
 },
 "nbformat": 4,
 "nbformat_minor": 2
}
