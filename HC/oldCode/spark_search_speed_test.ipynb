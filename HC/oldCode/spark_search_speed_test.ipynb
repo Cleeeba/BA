{
 "cells": [
  {
   "cell_type": "code",
   "execution_count": 39,
   "metadata": {},
   "outputs": [],
   "source": [
    "from pyspark.sql import SparkSession\n",
    "from pyspark.sql.functions import split, col, element_at, slice, size, regexp_extract, transform, when, explode, \\\n",
    "monotonically_increasing_id, map_from_arrays, lit, udf,collect_list, row_number, ceil, map_keys, expr, from_json\n",
    "from pyspark.sql.types import ShortType, ArrayType, LongType, StringType\n",
    "from pyspark.sql import types as T\n",
    "from pyspark.pandas import read_parquet\n",
    "import pandas as pd\n",
    "from os import listdir\n",
    "from os.path import isfile, join\n",
    "\n",
    "import os\n",
    "import sys\n",
    "\n",
    "\n",
    "years_Columns = list(range(1800,2000)) \n",
    "directory = 'C:/Users/bincl/BA-Thesis/Dataset/2gram/default/'\n",
    "directory_par = 'C:/Users/bincl/BA-Thesis/Dataset/2gram/parquet/'\n",
    "\n",
    "#pathlist = [directory + f for f in listdir(directory) if isfile(join(directory, f))]\n",
    "\n",
    "spark2 = SparkSession.builder.appName('3gramSQL').getOrCreate()\n",
    "\n",
    "df = spark2.read.option(\"header\",\"true\").option(\"recursiveFileLookup\",\"true\").parquet(directory_par)"
   ]
  },
  {
   "cell_type": "code",
   "execution_count": null,
   "metadata": {},
   "outputs": [],
   "source": [
    "path = 'C:/Users/bincl/BA-Thesis/Dataset/3gram/default/3_20000_nopos_sample/3_20000_nopos_sample.gz'\n",
    "directory_par = 'C:/Users/bincl/BA-Thesis/Dataset/2gram/parquet/'\n",
    "\n",
    "spark = SparkSession.builder.appName('3gramSQL').getOrCreate()\n",
    "\n",
    "raw_input_df = spark \\\n",
    "                .read.csv(path, sep='\\n',quote=\"\").withColumnRenamed('_c0', 'Input')\n",
    "\n",
    "split_df = raw_input_df \\\n",
    "                .select(split('Input', '\\t').alias('SplitInput')) \\\n",
    "                .select(element_at('SplitInput', 1).alias('Tokens'),\n",
    "                        slice('SplitInput', 2,\n",
    "size('SplitInput')).alias('Data')) \\\n",
    "                .select('Tokens', 'Data') \\\n",
    "\n",
    "df_3gram = split_df.select('Tokens', transform('Data', lambda d:\n",
    "split(d, ',')).alias('Data')) \\\n",
    "                .select('Tokens', transform('Data', lambda x:\n",
    "x[0]).alias('Year'),\n",
    "                        transform('Data', lambda x:\n",
    "x[1]).cast(ArrayType(LongType())).alias('Occurrences')) \\\n",
    "                .select('Tokens', map_from_arrays('Year',\n",
    "'Occurrences').alias('Data')) \\\n",
    "                .select(['Tokens', 'Data'])          "
   ]
  },
  {
   "cell_type": "code",
   "execution_count": 40,
   "metadata": {},
   "outputs": [],
   "source": [
    "#df = spark2.read.option(\"recursiveFileLookup\",\"true\").parquet(\"/path/to/root/\")\n",
    "#df.tail(3)"
   ]
  },
  {
   "cell_type": "code",
   "execution_count": 41,
   "metadata": {},
   "outputs": [],
   "source": [
    "\n",
    "def get_pd_df_from_string(suchstring, df):\n",
    "    x = df.select(['Tokens', 'Data']).where(df.Tokens == suchstring)\n",
    "    x.printSchema()\n",
    "    matched = x.first()['Data']\n",
    "    matched_pandas_df = pd.Series(matched)\n",
    "    matched_pandas_df.sort_index(inplace = True)\n",
    "\n",
    "    matched_pandas_df.index.astype('int')\n",
    "    numbers = list(range(1500,2020))\n",
    "    numbers = map(str, numbers)\n",
    "    matched_pandas_df = matched_pandas_df.reindex(numbers, fill_value= 0)\n",
    "    return matched_pandas_df"
   ]
  },
  {
   "cell_type": "code",
   "execution_count": 42,
   "metadata": {},
   "outputs": [
    {
     "name": "stdout",
     "output_type": "stream",
     "text": [
      "root\n",
      " |-- Tokens: string (nullable = true)\n",
      " |-- Data: map (nullable = true)\n",
      " |    |-- key: string\n",
      " |    |-- value: long (valueContainsNull = true)\n",
      "\n",
      "1500      0\n",
      "1501      0\n",
      "1502      0\n",
      "1503      0\n",
      "1504      0\n",
      "       ... \n",
      "2015    623\n",
      "2016    423\n",
      "2017    500\n",
      "2018    409\n",
      "2019    505\n",
      "Length: 520, dtype: int64\n"
     ]
    }
   ],
   "source": [
    "# 1.2s mit parquet 15,5 ohne\n",
    "matched_pandas_df = get_pd_df_from_string(\"Geschlecht '\",df)\n",
    "print(matched_pandas_df)"
   ]
  },
  {
   "cell_type": "code",
   "execution_count": 43,
   "metadata": {},
   "outputs": [],
   "source": [
    "#matched_pandas_df = get_pd_df_from_string('Titel beurteilt',df2)\n",
    "#print(matched_pandas_df)"
   ]
  },
  {
   "cell_type": "code",
   "execution_count": 44,
   "metadata": {},
   "outputs": [],
   "source": [
    "# if id set as default parameter then a list is given if not a spark dataframe is given as parameter df\n",
    "def get_pd_df(df, id = -1):\n",
    "    if id == -1 :\n",
    "        matched = data['Data'] \n",
    "    else: \n",
    "        data = df.select(['Id', 'Data']).filter(df[\"Id\"] == id).limit(1)\n",
    "        matched = data.first()['Data']\n",
    "    \n",
    "    matched_pandas_df = pd.Series(matched)\n",
    "    matched_pandas_df.sort_index(inplace = True)\n",
    "\n",
    "    matched_pandas_df.index.astype('int')\n",
    "    numbers = list(range(1500,2020))\n",
    "    numbers = map(str, numbers)\n",
    "    matched_pandas_df = matched_pandas_df.reindex(numbers, fill_value= 0)\n",
    "    return matched_pandas_df\n",
    "\n",
    "def get_pd_df_from_string(suchstring, df):\n",
    "    x = df.select(['Id', 'Tokens'])\n",
    "    x = x.where(x.Tokens == suchstring)\n",
    "    id = x.first()['Id']\n",
    "    print(id)\n",
    "    return get_pd_df(df,id)      "
   ]
  },
  {
   "cell_type": "code",
   "execution_count": 45,
   "metadata": {},
   "outputs": [
    {
     "ename": "NameError",
     "evalue": "name 'df_2gram' is not defined",
     "output_type": "error",
     "traceback": [
      "\u001b[1;31m---------------------------------------------------------------------------\u001b[0m",
      "\u001b[1;31mNameError\u001b[0m                                 Traceback (most recent call last)",
      "Cell \u001b[1;32mIn[45], line 1\u001b[0m\n\u001b[1;32m----> 1\u001b[0m \u001b[38;5;28mprint\u001b[39m(get_pd_df(\u001b[43mdf_2gram\u001b[49m, matched_pandas_df))\n",
      "\u001b[1;31mNameError\u001b[0m: name 'df_2gram' is not defined"
     ]
    }
   ],
   "source": [
    "print(get_pd_df(df_2gram, matched_pandas_df))"
   ]
  },
  {
   "cell_type": "code",
   "execution_count": null,
   "metadata": {},
   "outputs": [
    {
     "name": "stdout",
     "output_type": "stream",
     "text": [
      "DataFrame Rows count : 38123440\n"
     ]
    }
   ],
   "source": [
    "rows = df_2gram.select(['Id']).count()\n",
    "print(f\"DataFrame Rows count : {rows}\")\n",
    "rows_2gram = 38123440\n",
    "partition_id = rows_2gram/ 8"
   ]
  },
  {
   "cell_type": "code",
   "execution_count": null,
   "metadata": {},
   "outputs": [
    {
     "name": "stdout",
     "output_type": "stream",
     "text": [
      "4765430.0\n"
     ]
    }
   ],
   "source": [
    "rows_2gram = 38123440\n",
    "partition_id = 4765430\n",
    "print(partition_id.)"
   ]
  },
  {
   "cell_type": "code",
   "execution_count": null,
   "metadata": {},
   "outputs": [],
   "source": [
    "desired_row_number = 154619839732\n",
    "desired_row = final_df.select(['Id', 'Data']).rdd.zipWithIndex().filter(lambda x: x[1] == desired_row_number).map(lambda x: x[0]).show()\n",
    " \n",
    "print(desired_row)"
   ]
  },
  {
   "cell_type": "code",
   "execution_count": null,
   "metadata": {},
   "outputs": [
    {
     "name": "stdout",
     "output_type": "stream",
     "text": [
      "154619839732\n"
     ]
    }
   ],
   "source": [
    "matched_pandas_df = get_pd_df_from_string('\" Bis', df_2gram)\n",
    "matched_pandas_df.plot()"
   ]
  },
  {
   "cell_type": "code",
   "execution_count": null,
   "metadata": {},
   "outputs": [],
   "source": []
  }
 ],
 "metadata": {
  "kernelspec": {
   "display_name": "Python 3",
   "language": "python",
   "name": "python3"
  },
  "language_info": {
   "codemirror_mode": {
    "name": "ipython",
    "version": 3
   },
   "file_extension": ".py",
   "mimetype": "text/x-python",
   "name": "python",
   "nbconvert_exporter": "python",
   "pygments_lexer": "ipython3",
   "version": "3.11.0"
  }
 },
 "nbformat": 4,
 "nbformat_minor": 2
}
