{
 "cells": [
  {
   "cell_type": "code",
   "execution_count": 56,
   "metadata": {},
   "outputs": [],
   "source": [
    "from IPython.display import display\n",
    "import pandas as pd\n",
    "import pandas as pd\n",
    "import matplotlib.pyplot as plt\n",
    "from sklearn.linear_model import LinearRegression \n",
    "from sklearn.metrics import mean_squared_error\n",
    "from scipy.stats import zscore\n",
    "import gzip\n",
    "import os\n",
    "from alive_progress import alive_bar\n",
    "from collections import defaultdict\n",
    "\n",
    "start_year = 1800\n",
    "end_year = 2000\n",
    "\n",
    "years_Columns = list(range(start_year,end_year)) \n",
    "\n",
    "directory = 'C:/Users/bincl/BA-Thesis/Dataset/2gram'\n",
    "chunksize_per_df = 2\n"
   ]
  },
  {
   "cell_type": "code",
   "execution_count": 57,
   "metadata": {},
   "outputs": [],
   "source": [
    "import csv\n",
    "from io import TextIOWrapper\n",
    "from zipfile import ZipFile\n",
    "\n",
    "df_3gram = pd.DataFrame(columns = years_Columns)\n",
    "index = []\n",
    "data_year = []\n",
    "\n",
    "with ZipFile('C:/Users/bincl/BA-Thesis/Dataset/3gram/3_20000_nopos_sample.zip') as zf:\n",
    "    with zf.open('3_20000_nopos_sample', 'r') as infile:\n",
    "        file = TextIOWrapper(infile, encoding='utf-8', newline='')\n",
    "        reader = csv.reader(file, delimiter= \"\\t\" ,skipinitialspace=True,quoting=csv.QUOTE_NONE)   \n",
    "        \n",
    "        for i in range(0,chunksize_per_df):\n",
    "            line = next(reader)\n",
    "            index.append(line[0])\n",
    "            \n",
    "            data = [entry.split(\",\") for entry in line[1:]]\n",
    "            year = {int(entry[0]): entry[1] for entry in data if start_year <= int(entry[0]) <= end_year}\n",
    "            data_year.append(year)\n",
    "            \n",
    "        for i, word_data in enumerate(data_year):\n",
    "            word = index[i]\n",
    "            for year, value in word_data.items():\n",
    "                df_3gram.at[word, year] = value\n",
    "\n",
    "        df_3gram.fillna(0, inplace=True)\n",
    "\n",
    "         "
   ]
  },
  {
   "cell_type": "code",
   "execution_count": 58,
   "metadata": {},
   "outputs": [
    {
     "data": {
      "text/html": [
       "<div>\n",
       "<style scoped>\n",
       "    .dataframe tbody tr th:only-of-type {\n",
       "        vertical-align: middle;\n",
       "    }\n",
       "\n",
       "    .dataframe tbody tr th {\n",
       "        vertical-align: top;\n",
       "    }\n",
       "\n",
       "    .dataframe thead th {\n",
       "        text-align: right;\n",
       "    }\n",
       "</style>\n",
       "<table border=\"1\" class=\"dataframe\">\n",
       "  <thead>\n",
       "    <tr style=\"text-align: right;\">\n",
       "      <th></th>\n",
       "      <th>1800</th>\n",
       "      <th>1801</th>\n",
       "      <th>1802</th>\n",
       "      <th>1803</th>\n",
       "      <th>1804</th>\n",
       "      <th>1805</th>\n",
       "      <th>1806</th>\n",
       "      <th>1807</th>\n",
       "      <th>1808</th>\n",
       "      <th>1809</th>\n",
       "      <th>...</th>\n",
       "      <th>1991</th>\n",
       "      <th>1992</th>\n",
       "      <th>1993</th>\n",
       "      <th>1994</th>\n",
       "      <th>1995</th>\n",
       "      <th>1996</th>\n",
       "      <th>1997</th>\n",
       "      <th>1998</th>\n",
       "      <th>1999</th>\n",
       "      <th>2000</th>\n",
       "    </tr>\n",
       "  </thead>\n",
       "  <tbody>\n",
       "    <tr>\n",
       "      <th>\" Bis seine</th>\n",
       "      <td>0</td>\n",
       "      <td>0</td>\n",
       "      <td>0</td>\n",
       "      <td>0</td>\n",
       "      <td>0</td>\n",
       "      <td>0</td>\n",
       "      <td>0</td>\n",
       "      <td>0</td>\n",
       "      <td>0</td>\n",
       "      <td>0</td>\n",
       "      <td>...</td>\n",
       "      <td>0</td>\n",
       "      <td>0</td>\n",
       "      <td>1</td>\n",
       "      <td>0</td>\n",
       "      <td>0</td>\n",
       "      <td>0</td>\n",
       "      <td>0</td>\n",
       "      <td>10</td>\n",
       "      <td>0</td>\n",
       "      <td>1</td>\n",
       "    </tr>\n",
       "    <tr>\n",
       "      <th>\" -- Vorgehen</th>\n",
       "      <td>0</td>\n",
       "      <td>0</td>\n",
       "      <td>0</td>\n",
       "      <td>0</td>\n",
       "      <td>0</td>\n",
       "      <td>0</td>\n",
       "      <td>0</td>\n",
       "      <td>0</td>\n",
       "      <td>0</td>\n",
       "      <td>0</td>\n",
       "      <td>...</td>\n",
       "      <td>1</td>\n",
       "      <td>1</td>\n",
       "      <td>1</td>\n",
       "      <td>0</td>\n",
       "      <td>0</td>\n",
       "      <td>4</td>\n",
       "      <td>3</td>\n",
       "      <td>5</td>\n",
       "      <td>4</td>\n",
       "      <td>8</td>\n",
       "    </tr>\n",
       "  </tbody>\n",
       "</table>\n",
       "<p>2 rows × 201 columns</p>\n",
       "</div>"
      ],
      "text/plain": [
       "               1800  1801  1802  1803  1804  1805  1806  1807  1808  1809  \\\n",
       "\" Bis seine       0     0     0     0     0     0     0     0     0     0   \n",
       "\" -- Vorgehen     0     0     0     0     0     0     0     0     0     0   \n",
       "\n",
       "               ...  1991  1992  1993  1994  1995  1996  1997  1998  1999  2000  \n",
       "\" Bis seine    ...     0     0     1     0     0     0     0    10     0     1  \n",
       "\" -- Vorgehen  ...     1     1     1     0     0     4     3     5     4     8  \n",
       "\n",
       "[2 rows x 201 columns]"
      ]
     },
     "metadata": {},
     "output_type": "display_data"
    }
   ],
   "source": [
    "display(df_3gram)"
   ]
  },
  {
   "cell_type": "code",
   "execution_count": 59,
   "metadata": {},
   "outputs": [],
   "source": [
    "\n",
    "def find_n_gram(direc, find):\n",
    "    for filename in os.listdir(direc):\n",
    "        f = os.path.join(direc, filename)\n",
    "        # checking if it is a file\n",
    "        if os.path.isfile(f):\n",
    "            #print(f)\n",
    "            with gzip.open(f,'rt', encoding='utf-8') as input:\n",
    "                str_arr_csv = input.readlines()\n",
    "                for line in str_arr_csv:\n",
    "                    token = line.split(\"\\t\")\n",
    "                    if find == token[0]:\n",
    "                        return line\n",
    "                        \n",
    "    return \"line not found\" \n",
    "\n",
    "def start_the_search(directory,search):\n",
    "    result = find_n_gram(directory,search)\n",
    "    \n",
    "    if result == \"line not found\":\n",
    "        print(result)\n",
    "        exit()\n",
    "    result = result.strip().split(\"\\t\")\n",
    "    return result\n",
    "\n",
    "def convert_to_df(first,last):\n",
    "    indexList = [first[0], last[0]]\n",
    "    df = pd.DataFrame(0,index= indexList,columns = years_Columns)\n",
    "    data_year = []\n",
    "    \n",
    "    data = [entry.split(\",\") for entry in first[1:]]\n",
    "    data_last = [entry.split(\",\") for entry in last[1:]]\n",
    "    year_first= {int(entry[0]): entry[1] for entry in data if start_year <= int(entry[0]) <= end_year}\n",
    "    data_year.append(year_first)\n",
    "    year_last = {int(entry[0]): entry[1] for entry in data_last if start_year <= int(entry[0]) <= end_year}\n",
    "    data_year.append(year_last)\n",
    "    #print(data_year)\n",
    "    for i, word_data in enumerate(data_year):\n",
    "            word = indexList[i]\n",
    "            for year, value in word_data.items():\n",
    "                df.at[word, year] = value\n",
    "    #print(df)\n",
    "    result_first = df.iloc[0]\n",
    "    result_last = df.iloc[1]\n",
    "    return result_first, result_last"
   ]
  },
  {
   "cell_type": "markdown",
   "metadata": {},
   "source": [
    "Test function search"
   ]
  },
  {
   "cell_type": "code",
   "execution_count": 60,
   "metadata": {},
   "outputs": [],
   "source": [
    "#first = start_the_search(directory,'\" Bis')\n",
    "#last = start_the_search(directory,'Bis seine')\n",
    "#first,last = convert_to_df(first,last)\n",
    "#display(first)\n",
    "#display(last)"
   ]
  },
  {
   "cell_type": "code",
   "execution_count": 61,
   "metadata": {},
   "outputs": [],
   "source": [
    "def getLowerLevelString(string):\n",
    "   first, *middle, last = string.split()\n",
    "   first = first + \" \" + ''.join(middle)\n",
    "   last = ''.join(middle) + \" \" + last\n",
    "   return first, last\n",
    "\n",
    "def MLR(token,ngram):\n",
    "    #print(token)\n",
    "    first,last = getLowerLevelString(token)\n",
    "    #print(first)\n",
    "    #print(last)\n",
    "    first = start_the_search(directory,first)\n",
    "    last = start_the_search(directory,last)\n",
    "    first, last = convert_to_df(first,last)\n",
    "    X = pd.concat([first,last],axis=1)\n",
    "    y = ngram.loc[token]\n",
    "    reg = LinearRegression()\n",
    "    reg.fit(X, y) \n",
    "    \n",
    "    return reg.coef_,reg.intercept_,X\n",
    "\n",
    "def buildApproximation(c1,c2,basevalue,df):\n",
    "    df = df.astype('float')\n",
    "    df['scaledFirst'] = df.iloc[:,0].apply(lambda x: x * c1) \n",
    "    df['scaledLast'] = df.iloc[:,1].apply(lambda x: x * c2) \n",
    "    df['approximation'] = df['scaledFirst'] + df['scaledLast'] + basevalue\n",
    "    return df"
   ]
  },
  {
   "cell_type": "code",
   "execution_count": 62,
   "metadata": {},
   "outputs": [],
   "source": [
    "def compressWithError2gram(firstN,error,df_ngram):\n",
    "    df_N_gram = df_ngram.head(firstN)\n",
    "    \n",
    "    result = []\n",
    "    all = []\n",
    "    sum = []\n",
    "    with alive_bar(df_N_gram.index.values.size) as bar:\n",
    "        for token in df_N_gram.index.values:\n",
    "            coef,intercept,dfAprox = MLR(token,df_N_gram)\n",
    "            c1,c2 = coef\n",
    "            df = buildApproximation(c1,c2,intercept,dfAprox)\n",
    "            dfOriginal = pd.DataFrame()\n",
    "            dfOriginal['values'] = df_ngram.loc[token]\n",
    "            dfOriginal['values'] = dfOriginal['values'].apply(pd.to_numeric, errors='coerce')\n",
    "            #dfOriginal= pd.to_numeric(dfOriginal)\n",
    "            dfOriginal['zscore'] = zscore(dfOriginal)\n",
    "            df['zscore'] = zscore(df['approximation'])\n",
    "            \n",
    "            sum.append(pd.to_numeric(dfOriginal['values']).sum()) \n",
    "            \n",
    "            rmse = mean_squared_error(dfOriginal['zscore'], df['zscore'], squared = False)\n",
    "            #rmse = mean_squared_error(dfOriginal, df['approximation'])\n",
    "            if rmse <= error:\n",
    "                result.append([token,rmse,dfOriginal['values'],dfOriginal['zscore'],df['approximation'],df['zscore']]) \n",
    "            all.append(rmse)    \n",
    "            bar()\n",
    "    return result, all, sum\n"
   ]
  },
  {
   "cell_type": "code",
   "execution_count": 63,
   "metadata": {},
   "outputs": [
    {
     "name": "stderr",
     "output_type": "stream",
     "text": [
      "on 0: C:\\Users\\bincl\\AppData\\Local\\Temp\\ipykernel_3984\\3373694177.py:40: PerformanceWarning: DataFrame is highly fragmented.  This is usually the result of calling `frame.insert` many times, which has poor performance.  Consider joining all columns at once using pd.concat(axis=1) instead. To get a de-fragmented frame, use `newframe = frame.copy()`\n",
      "        df.at[word, year] = value\n",
      "on 1: C:\\Users\\bincl\\AppData\\Local\\Temp\\ipykernel_3984\\3373694177.py:40: PerformanceWarning: DataFrame is highly fragmented.  This is usually the result of calling `frame.insert` many times, which has poor performance.  Consider joining all columns at once using pd.concat(axis=1) instead. To get a de-fragmented frame, use `newframe = frame.copy()`\n",
      "        df.at[word, year] = value\n"
     ]
    },
    {
     "name": "stdout",
     "output_type": "stream",
     "text": [
      "|████████████████████████████████████████| 2/2 [100%] in 4:40.8 (0.01/s) \n",
      "0\n"
     ]
    }
   ],
   "source": [
    "result, all, sum = compressWithError2gram(chunksize_per_df,0.05, df_3gram)\n",
    "print(len(result))\n"
   ]
  },
  {
   "cell_type": "code",
   "execution_count": 64,
   "metadata": {},
   "outputs": [
    {
     "data": {
      "image/png": "[encoded data removed]",
      "text/plain": [
       "<Figure size 640x480 with 1 Axes>"
      ]
     },
     "metadata": {},
     "output_type": "display_data"
    },
    {
     "data": {
      "image/png": "[encoded data removed]",
      "text/plain": [
       "<Figure size 640x480 with 1 Axes>"
      ]
     },
     "metadata": {},
     "output_type": "display_data"
    },
    {
     "data": {
      "text/plain": [
       "<AxesSubplot: >"
      ]
     },
     "execution_count": 64,
     "metadata": {},
     "output_type": "execute_result"
    },
    {
     "data": {
      "image/png": "[encoded data removed]",
      "text/plain": [
       "<Figure size 640x480 with 1 Axes>"
      ]
     },
     "metadata": {},
     "output_type": "display_data"
    }
   ],
   "source": [
    "plt.boxplot(all)\n",
    "plt.show()\n",
    "rmse_with_error = []\n",
    "\n",
    "for i in result:\n",
    "    rmse_with_error.append(i[1])\n",
    "plt.boxplot(rmse_with_error)\n",
    "plt.show()\n",
    "\n",
    "import seaborn as sns\n",
    "\n",
    "sns.violinplot(x= rmse_with_error, inner=\"point\")"
   ]
  },
  {
   "cell_type": "code",
   "execution_count": 65,
   "metadata": {},
   "outputs": [
    {
     "data": {
      "text/plain": [
       "<AxesSubplot: >"
      ]
     },
     "execution_count": 65,
     "metadata": {},
     "output_type": "execute_result"
    },
    {
     "data": {
      "image/png": "[encoded data removed]",
      "text/plain": [
       "<Figure size 640x480 with 1 Axes>"
      ]
     },
     "metadata": {},
     "output_type": "display_data"
    }
   ],
   "source": [
    "sns.violinplot(x= all, inner_kws=dict(box_width=15, whis_width=2, color=\".8\"))"
   ]
  },
  {
   "cell_type": "code",
   "execution_count": 66,
   "metadata": {},
   "outputs": [
    {
     "data": {
      "image/png": "[encoded data removed]",
      "text/plain": [
       "<Figure size 640x480 with 1 Axes>"
      ]
     },
     "metadata": {},
     "output_type": "display_data"
    }
   ],
   "source": [
    "\n",
    "plt.scatter(sum, all)\n",
    "plt.xscale('log')\n",
    "plt.show()"
   ]
  }
 ],
 "metadata": {
  "kernelspec": {
   "display_name": "Python 3",
   "language": "python",
   "name": "python3"
  },
  "language_info": {
   "codemirror_mode": {
    "name": "ipython",
    "version": 3
   },
   "file_extension": ".py",
   "mimetype": "text/x-python",
   "name": "python",
   "nbconvert_exporter": "python",
   "pygments_lexer": "ipython3",
   "version": "3.11.0"
  }
 },
 "nbformat": 4,
 "nbformat_minor": 2
}
