{
 "cells": [
  {
   "cell_type": "code",
   "execution_count": 1,
   "metadata": {},
   "outputs": [
    {
     "name": "stderr",
     "output_type": "stream",
     "text": [
      "c:\\Users\\bincl\\AppData\\Local\\Programs\\Python\\Python311\\Lib\\site-packages\\scipy\\__init__.py:169: UserWarning: A NumPy version >=1.18.5 and <1.26.0 is required for this version of SciPy (detected version 1.26.2\n",
      "  warnings.warn(f\"A NumPy version >={np_minversion} and <{np_maxversion}\"\n"
     ]
    }
   ],
   "source": [
    "from pyspark.sql import SparkSession\n",
    "from pyspark.sql.functions import split, col, element_at, slice, size, regexp_extract, transform, when, explode, \\\n",
    "monotonically_increasing_id, map_from_arrays, lit, udf,collect_list, row_number, ceil, map_keys, expr, from_json\n",
    "from pyspark.sql.types import ShortType, ArrayType, LongType, StringType\n",
    "from pyspark.sql import types as T\n",
    "\n",
    "from IPython.display import display\n",
    "import pandas as pd\n",
    "import pandas as pd\n",
    "import matplotlib.pyplot as plt\n",
    "from sklearn.linear_model import LinearRegression \n",
    "from sklearn.metrics import mean_squared_error\n",
    "from scipy.stats import zscore\n",
    "import gzip\n",
    "import os\n",
    "import csv\n",
    "from alive_progress import alive_bar\n",
    "from collections import defaultdict\n",
    "import pandas as pd\n",
    "from os import listdir\n",
    "from os.path import isfile, join\n",
    "\n",
    "directory = 'C:/Users/bincl/BA-Thesis/Dataset/2gram/default/'\n",
    "\n",
    "def find_n_gram(direc, find):\n",
    "    for filename in os.listdir(direc):\n",
    "        f = os.path.join(direc, filename)\n",
    "        # checking if it is a file\n",
    "        if os.path.isfile(f):\n",
    "            print(f)\n",
    "            with gzip.open(f,'rt', encoding='utf-8') as input:\n",
    "                str_arr_csv = input.readlines()\n",
    "                for line in str_arr_csv:\n",
    "                    token = line.split(\"\\t\")\n",
    "                    if find == token[0]:\n",
    "                        return line\n",
    "                        \n",
    "    return \"line not found\" \n",
    "\n",
    "def start_the_search(directory,search):\n",
    "    result = find_n_gram(directory,search)\n",
    "    \n",
    "    if result == \"line not found\":\n",
    "        print(result)\n",
    "        exit()\n",
    "    result = result.split(\"\\t\")\n",
    "    lower_ngram = pd.Series(result[1:],dtype= \"string\", name = result[0])\n",
    "    return lower_ngram\n",
    "            "
   ]
  },
  {
   "cell_type": "code",
   "execution_count": 2,
   "metadata": {},
   "outputs": [
    {
     "name": "stdout",
     "output_type": "stream",
     "text": [
      "C:/Users/bincl/BA-Thesis/Dataset/2gram/default/2_20000_nopos_aa.gz\n",
      "C:/Users/bincl/BA-Thesis/Dataset/2gram/default/2_20000_nopos_ab.gz\n",
      "C:/Users/bincl/BA-Thesis/Dataset/2gram/default/2_20000_nopos_ac.gz\n",
      "C:/Users/bincl/BA-Thesis/Dataset/2gram/default/2_20000_nopos_ad.gz\n",
      "C:/Users/bincl/BA-Thesis/Dataset/2gram/default/2_20000_nopos_ae.gz\n",
      "C:/Users/bincl/BA-Thesis/Dataset/2gram/default/2_20000_nopos_af.gz\n",
      "C:/Users/bincl/BA-Thesis/Dataset/2gram/default/2_20000_nopos_ag.gz\n",
      "C:/Users/bincl/BA-Thesis/Dataset/2gram/default/2_20000_nopos_ah.gz\n",
      "C:/Users/bincl/BA-Thesis/Dataset/2gram/default/2_20000_nopos_ai.gz\n",
      "C:/Users/bincl/BA-Thesis/Dataset/2gram/default/2_20000_nopos_aj.gz\n",
      "C:/Users/bincl/BA-Thesis/Dataset/2gram/default/2_20000_nopos_ak.gz\n",
      "C:/Users/bincl/BA-Thesis/Dataset/2gram/default/2_20000_nopos_al.gz\n",
      "C:/Users/bincl/BA-Thesis/Dataset/2gram/default/2_20000_nopos_am.gz\n",
      "C:/Users/bincl/BA-Thesis/Dataset/2gram/default/2_20000_nopos_an.gz\n",
      "C:/Users/bincl/BA-Thesis/Dataset/2gram/default/2_20000_nopos_ao.gz\n",
      "C:/Users/bincl/BA-Thesis/Dataset/2gram/default/2_20000_nopos_ap.gz\n",
      "C:/Users/bincl/BA-Thesis/Dataset/2gram/default/2_20000_nopos_aq.gz\n",
      "C:/Users/bincl/BA-Thesis/Dataset/2gram/default/2_20000_nopos_ar.gz\n",
      "C:/Users/bincl/BA-Thesis/Dataset/2gram/default/2_20000_nopos_as.gz\n",
      "C:/Users/bincl/BA-Thesis/Dataset/2gram/default/2_20000_nopos_at.gz\n",
      "C:/Users/bincl/BA-Thesis/Dataset/2gram/default/2_20000_nopos_au.gz\n",
      "C:/Users/bincl/BA-Thesis/Dataset/2gram/default/2_20000_nopos_av.gz\n",
      "C:/Users/bincl/BA-Thesis/Dataset/2gram/default/2_20000_nopos_aw.gz\n",
      "C:/Users/bincl/BA-Thesis/Dataset/2gram/default/2_20000_nopos_ax.gz\n",
      "C:/Users/bincl/BA-Thesis/Dataset/2gram/default/2_20000_nopos_ay.gz\n",
      "C:/Users/bincl/BA-Thesis/Dataset/2gram/default/2_20000_nopos_az.gz\n",
      "C:/Users/bincl/BA-Thesis/Dataset/2gram/default/2_20000_nopos_ba.gz\n",
      "C:/Users/bincl/BA-Thesis/Dataset/2gram/default/2_20000_nopos_bb.gz\n",
      "C:/Users/bincl/BA-Thesis/Dataset/2gram/default/2_20000_nopos_bc.gz\n",
      "C:/Users/bincl/BA-Thesis/Dataset/2gram/default/2_20000_nopos_bd.gz\n",
      "0           1551,1,1\n",
      "1           1560,1,1\n",
      "2           1573,1,1\n",
      "3           1583,1,1\n",
      "4           1585,2,2\n",
      "           ...      \n",
      "306     2015,623,220\n",
      "307     2016,423,207\n",
      "308     2017,500,222\n",
      "309     2018,409,206\n",
      "310    2019,505,175\n",
      "\n",
      "Name: Geschlecht ', Length: 311, dtype: string\n"
     ]
    }
   ],
   "source": [
    "found = start_the_search(directory,\"Geschlecht '\")\n",
    "print(found)"
   ]
  },
  {
   "cell_type": "code",
   "execution_count": 3,
   "metadata": {},
   "outputs": [],
   "source": [
    "def get_pd_df_from_string(suchstring, df):\n",
    "    x = df_2gram\n",
    "    x = x.where(x.Tokens == suchstring)\n",
    "    id = x.first()['Id']\n",
    "    print(id)\n",
    "    return id "
   ]
  }
 ],
 "metadata": {
  "kernelspec": {
   "display_name": "Python 3",
   "language": "python",
   "name": "python3"
  },
  "language_info": {
   "codemirror_mode": {
    "name": "ipython",
    "version": 3
   },
   "file_extension": ".py",
   "mimetype": "text/x-python",
   "name": "python",
   "nbconvert_exporter": "python",
   "pygments_lexer": "ipython3",
   "version": "3.11.0"
  }
 },
 "nbformat": 4,
 "nbformat_minor": 2
}
