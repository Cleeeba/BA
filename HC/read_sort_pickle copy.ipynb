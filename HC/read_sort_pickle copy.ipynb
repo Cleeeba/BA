{
 "cells": [
  {
   "cell_type": "code",
   "execution_count": 22,
   "metadata": {},
   "outputs": [],
   "source": [
    "import gzip\n",
    "import pandas as pd\n",
    "import os\n",
    "import sqlite3\n",
    "import gzip\n",
    "import csv\n",
    "from pathlib import Path\n",
    "\n",
    "\n",
    "start_year = 1900\n",
    "end_year = 2019\n",
    "\n",
    "words = []\n",
    "data_year = []"
   ]
  },
  {
   "cell_type": "code",
   "execution_count": 23,
   "metadata": {},
   "outputs": [],
   "source": [
    "def read_in(string,conn):\n",
    "    with gzip.open(string,'rt', encoding='utf-8') as input:\n",
    "        for line in input:\n",
    "            values = line.strip().split(\"\\t\")\n",
    "            words.append(values[0])\n",
    "            data = [entry.split(\",\") for entry in values[1:]]\n",
    "            year = {int(entry[0]): entry[1] for entry in data if start_year <= int(entry[0]) <= end_year}\n",
    "            data_year.append(year)\n",
    "\n",
    "    years = list(range(start_year, end_year + 1))\n",
    "    df = pd.DataFrame(index=words, columns=years)\n",
    "\n",
    "    for i, word_data in enumerate(data_year):\n",
    "        word = words[i]\n",
    "        for year, value in word_data.items():\n",
    "            df.at[word, year] = value\n",
    "\n",
    "    string.replace(\".\",\"\")\n",
    "    first, *middle, last = string.split(\"_\")\n",
    "   # df.to_sql(last + '.data', conn, index = False)\n",
    "    \n",
    "    print(\"create table \" + last + \" as select * from \" + last + \".data\")\n",
    "    conn.execute(\"create table \" + last + \" as select * from \" + last + \".data\")"
   ]
  },
  {
   "cell_type": "code",
   "execution_count": 24,
   "metadata": {},
   "outputs": [
    {
     "name": "stdout",
     "output_type": "stream",
     "text": [
      "create table nopos.gz as select * from nopos.gz.data\n"
     ]
    },
    {
     "ename": "OperationalError",
     "evalue": "unknown database nopos",
     "output_type": "error",
     "traceback": [
      "\u001b[1;31m---------------------------------------------------------------------------\u001b[0m",
      "\u001b[1;31mOperationalError\u001b[0m                          Traceback (most recent call last)",
      "Cell \u001b[1;32mIn[24], line 9\u001b[0m\n\u001b[0;32m      7\u001b[0m \u001b[38;5;66;03m# checking if it is a file\u001b[39;00m\n\u001b[0;32m      8\u001b[0m \u001b[38;5;28;01mif\u001b[39;00m os\u001b[38;5;241m.\u001b[39mpath\u001b[38;5;241m.\u001b[39misfile(f):\n\u001b[1;32m----> 9\u001b[0m     \u001b[43mread_in\u001b[49m\u001b[43m(\u001b[49m\u001b[43mf\u001b[49m\u001b[43m,\u001b[49m\u001b[43mconn\u001b[49m\u001b[43m)\u001b[49m \n",
      "Cell \u001b[1;32mIn[23], line 23\u001b[0m, in \u001b[0;36mread_in\u001b[1;34m(string, conn)\u001b[0m\n\u001b[0;32m     20\u001b[0m \u001b[38;5;66;03m# df.to_sql(last + '.data', conn, index = False)\u001b[39;00m\n\u001b[0;32m     22\u001b[0m  \u001b[38;5;28mprint\u001b[39m(\u001b[38;5;124m\"\u001b[39m\u001b[38;5;124mcreate table \u001b[39m\u001b[38;5;124m\"\u001b[39m \u001b[38;5;241m+\u001b[39m last \u001b[38;5;241m+\u001b[39m \u001b[38;5;124m\"\u001b[39m\u001b[38;5;124m as select * from \u001b[39m\u001b[38;5;124m\"\u001b[39m \u001b[38;5;241m+\u001b[39m last \u001b[38;5;241m+\u001b[39m \u001b[38;5;124m\"\u001b[39m\u001b[38;5;124m.data\u001b[39m\u001b[38;5;124m\"\u001b[39m)\n\u001b[1;32m---> 23\u001b[0m  \u001b[43mconn\u001b[49m\u001b[38;5;241;43m.\u001b[39;49m\u001b[43mexecute\u001b[49m\u001b[43m(\u001b[49m\u001b[38;5;124;43m\"\u001b[39;49m\u001b[38;5;124;43mcreate table \u001b[39;49m\u001b[38;5;124;43m\"\u001b[39;49m\u001b[43m \u001b[49m\u001b[38;5;241;43m+\u001b[39;49m\u001b[43m \u001b[49m\u001b[43mlast\u001b[49m\u001b[43m \u001b[49m\u001b[38;5;241;43m+\u001b[39;49m\u001b[43m \u001b[49m\u001b[38;5;124;43m\"\u001b[39;49m\u001b[38;5;124;43m as select * from \u001b[39;49m\u001b[38;5;124;43m\"\u001b[39;49m\u001b[43m \u001b[49m\u001b[38;5;241;43m+\u001b[39;49m\u001b[43m \u001b[49m\u001b[43mlast\u001b[49m\u001b[43m \u001b[49m\u001b[38;5;241;43m+\u001b[39;49m\u001b[43m \u001b[49m\u001b[38;5;124;43m\"\u001b[39;49m\u001b[38;5;124;43m.data\u001b[39;49m\u001b[38;5;124;43m\"\u001b[39;49m\u001b[43m)\u001b[49m\n",
      "\u001b[1;31mOperationalError\u001b[0m: unknown database nopos"
     ]
    }
   ],
   "source": [
    "directory = 'C:/Users/bincl/BA-Thesis/Dataset/1gram'\n",
    "conn = sqlite3.connect('Ngram.db')\n",
    "Path('Ngram.db').touch()\n",
    "\n",
    "for filename in os.listdir(directory):\n",
    "    f = os.path.join(directory, filename)\n",
    "    # checking if it is a file\n",
    "    if os.path.isfile(f):\n",
    "        read_in(f,conn) \n"
   ]
  }
 ],
 "metadata": {
  "kernelspec": {
   "display_name": "Python 3",
   "language": "python",
   "name": "python3"
  },
  "language_info": {
   "codemirror_mode": {
    "name": "ipython",
    "version": 3
   },
   "file_extension": ".py",
   "mimetype": "text/x-python",
   "name": "python",
   "nbconvert_exporter": "python",
   "pygments_lexer": "ipython3",
   "version": "3.10.8"
  }
 },
 "nbformat": 4,
 "nbformat_minor": 2
}
