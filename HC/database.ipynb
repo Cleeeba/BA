{
 "cells": [
  {
   "cell_type": "code",
   "execution_count": null,
   "metadata": {},
   "outputs": [],
   "source": [
    "import sqlite3\n",
    "import gzip\n",
    "import csv\n",
    "from pathlib import Path\n",
    "import pandas as pd\n",
    "\n",
    "\n",
    "\n",
    "with gzip.open('C:/Users/bincl/BA-Thesis/Dataset/2gram/2_20000_nopos_al.gz', 'rt', encoding='utf-8') as input:\n",
    "   reader = csv.reader(input, delimiter='\\t', quoting=csv.QUOTE_NONE)\n",
    "   df1gram = pd.DataFrame(reader)\n",
    "\n",
    "Path('1_gram.db').touch()\n",
    "\n",
    "conn = sqlite3.connect('One_gram.db')\n",
    "\n",
    "c = conn.cursor()\n",
    "\n",
    "#c.execute('''CREATE TABLE One_gram (token text)''')\n",
    "\n",
    "\n",
    "\n",
    "df1gram.rename(columns  = {0:'token'},inplace = True)\n",
    "print(df1gram.iloc[:,0])\n",
    "\n"
   ]
  },
  {
   "cell_type": "code",
   "execution_count": null,
   "metadata": {},
   "outputs": [],
   "source": [
    "df1gram.iloc[:,0].to_sql('One_gram', conn, if_exists='append', index = False)\n",
    "#df1gram.to_sql('One_gram', conn, if_exists='append', index = False)\n",
    "   \n",
    "conn.commit()\n",
    "\n",
    "\n"
   ]
  },
  {
   "cell_type": "code",
   "execution_count": null,
   "metadata": {},
   "outputs": [],
   "source": [
    "c.execute('''SELECT * FROM One_gram''')\n",
    " \n",
    "for record in c.fetchall():\n",
    "    print(record)\n"
   ]
  },
  {
   "cell_type": "code",
   "execution_count": null,
   "metadata": {},
   "outputs": [],
   "source": [
    "df1gram.set_index('token',inplace = True)\n",
    "print(df1gram)\n"
   ]
  },
  {
   "cell_type": "code",
   "execution_count": null,
   "metadata": {},
   "outputs": [],
   "source": [
    "\n",
    "conn = sqlite3.connect('Ngram.db')\n",
    "Path('Ngram.db').touch()\n",
    "\n",
    "df1gram.to_sql('One_gram_data', conn, index = False)\n",
    "\n",
    "conn.execute(\n",
    "    \"\"\"\n",
    "    create table One_gram as \n",
    "    select * from One_gram_data\n",
    "    \"\"\")\n"
   ]
  },
  {
   "cell_type": "code",
   "execution_count": null,
   "metadata": {},
   "outputs": [],
   "source": [
    "\n",
    "c = conn.cursor()\n",
    "c.execute('''SELECT * FROM One_gram''')\n",
    " \n",
    "for record in c.fetchall():\n",
    "    print(record)"
   ]
  },
  {
   "cell_type": "code",
   "execution_count": null,
   "metadata": {},
   "outputs": [],
   "source": [
    "conn.close()"
   ]
  },
  {
   "cell_type": "code",
   "execution_count": null,
   "metadata": {},
   "outputs": [],
   "source": [
    "\n",
    "\n",
    "start_year = 1900\n",
    "end_year = 2019\n",
    "\n",
    "words = []\n",
    "data_year = []\n",
    "\n",
    "with gzip.open('C:/Users/bincl/BA-Thesis/Dataset/3gram/3_20000_nopos_sample.zip', 'rt', encoding='utf-8') as input:\n",
    "    reader = csv.reader(input, delimiter='\\t', quoting=csv.QUOTE_NONE)\n",
    "    df1gram = pd.DataFrame(reader)\n",
    "\n",
    "print(df1gram)"
   ]
  },
  {
   "cell_type": "code",
   "execution_count": null,
   "metadata": {},
   "outputs": [],
   "source": [
    "\n"
   ]
  }
 ],
 "metadata": {
  "kernelspec": {
   "display_name": "Python 3",
   "language": "python",
   "name": "python3"
  },
  "language_info": {
   "codemirror_mode": {
    "name": "ipython",
    "version": 3
   },
   "file_extension": ".py",
   "mimetype": "text/x-python",
   "name": "python",
   "nbconvert_exporter": "python",
   "pygments_lexer": "ipython3",
   "version": "3.11.0"
  }
 },
 "nbformat": 4,
 "nbformat_minor": 2
}
